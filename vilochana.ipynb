{
 "cells": [
  {
   "cell_type": "code",
   "execution_count": 1,
   "metadata": {
    "collapsed": true
   },
   "outputs": [],
   "source": [
    "import pandas as pd\n",
    "import numpy as np\n",
    "import tensorflow as tf"
   ]
  },
  {
   "cell_type": "code",
   "execution_count": 2,
   "metadata": {
    "collapsed": false
   },
   "outputs": [
    {
     "data": {
      "text/plain": [
       "Date           0\n",
       "FB             0\n",
       "PSB            0\n",
       "PVB            0\n",
       "MF             0\n",
       "OTHER          0\n",
       "PD             0\n",
       "TOTAL          0\n",
       "yield_ratio    0\n",
       "dtype: int64"
      ]
     },
     "execution_count": 2,
     "metadata": {},
     "output_type": "execute_result"
    }
   ],
   "source": [
    "# load dataset and remove null values\n",
    "df = pd.read_excel('C:\\\\Users\\\\kunal\\\\Downloads\\\\vilo.xlsx', sheetname = 'Sheet1', parse_cols = range(10), header = 2)\n",
    "df.rename(columns = {'Unnamed: 8' : 'yield_ratio'}, inplace = True)\n",
    "#df.isnull().sum()\n",
    "df[df.isnull()].count()\n",
    "\n",
    "df.head(20)\n"
   ]
  },
  {
   "cell_type": "code",
   "execution_count": 3,
   "metadata": {
    "collapsed": false
   },
   "outputs": [],
   "source": [
    "# drop the date column\n",
    "df.reset_index(inplace = True)\n",
    "df.columns\n",
    "df.drop('Date', inplace  = True, axis = 1)\n",
    "df.head(10)"
   ]
  },
  {
   "cell_type": "code",
   "execution_count": 4,
   "metadata": {
    "collapsed": false
   },
   "outputs": [],
   "source": [
    "df.drop(df.columns[0], inplace = True, axis = 1)"
   ]
  },
  {
   "cell_type": "code",
   "execution_count": 5,
   "metadata": {
    "collapsed": false
   },
   "outputs": [
    {
     "data": {
      "text/html": [
       "<div>\n",
       "<table border=\"1\" class=\"dataframe\">\n",
       "  <thead>\n",
       "    <tr style=\"text-align: right;\">\n",
       "      <th></th>\n",
       "      <th>FB</th>\n",
       "      <th>PSB</th>\n",
       "      <th>PVB</th>\n",
       "      <th>MF</th>\n",
       "      <th>OTHER</th>\n",
       "      <th>PD</th>\n",
       "      <th>TOTAL</th>\n",
       "      <th>yield_ratio</th>\n",
       "    </tr>\n",
       "  </thead>\n",
       "  <tbody>\n",
       "    <tr>\n",
       "      <th>count</th>\n",
       "      <td>1198.000000</td>\n",
       "      <td>1198.000000</td>\n",
       "      <td>1198.000000</td>\n",
       "      <td>1198.000000</td>\n",
       "      <td>1198.000000</td>\n",
       "      <td>1198.000000</td>\n",
       "      <td>1.198000e+03</td>\n",
       "      <td>1198.000000</td>\n",
       "    </tr>\n",
       "    <tr>\n",
       "      <th>mean</th>\n",
       "      <td>-1031.049850</td>\n",
       "      <td>2003.389917</td>\n",
       "      <td>1741.919992</td>\n",
       "      <td>-287.868456</td>\n",
       "      <td>2134.394758</td>\n",
       "      <td>-4560.786327</td>\n",
       "      <td>3.917624e+05</td>\n",
       "      <td>7.864567</td>\n",
       "    </tr>\n",
       "    <tr>\n",
       "      <th>std</th>\n",
       "      <td>18751.010821</td>\n",
       "      <td>30173.031078</td>\n",
       "      <td>16769.199933</td>\n",
       "      <td>10416.395346</td>\n",
       "      <td>6727.396042</td>\n",
       "      <td>11943.331351</td>\n",
       "      <td>2.444663e+05</td>\n",
       "      <td>0.653576</td>\n",
       "    </tr>\n",
       "    <tr>\n",
       "      <th>min</th>\n",
       "      <td>-90932.070000</td>\n",
       "      <td>-262954.190000</td>\n",
       "      <td>-74110.210000</td>\n",
       "      <td>-59277.670000</td>\n",
       "      <td>-38162.100000</td>\n",
       "      <td>-57281.050000</td>\n",
       "      <td>5.530640e+04</td>\n",
       "      <td>6.187000</td>\n",
       "    </tr>\n",
       "    <tr>\n",
       "      <th>25%</th>\n",
       "      <td>-10037.715000</td>\n",
       "      <td>-10058.137500</td>\n",
       "      <td>-5830.362500</td>\n",
       "      <td>-5287.500000</td>\n",
       "      <td>-1395.132500</td>\n",
       "      <td>-10725.142500</td>\n",
       "      <td>2.321439e+05</td>\n",
       "      <td>7.506250</td>\n",
       "    </tr>\n",
       "    <tr>\n",
       "      <th>50%</th>\n",
       "      <td>-1202.500000</td>\n",
       "      <td>3287.800000</td>\n",
       "      <td>1286.460000</td>\n",
       "      <td>69.285000</td>\n",
       "      <td>2023.590000</td>\n",
       "      <td>-3315.005000</td>\n",
       "      <td>3.322311e+05</td>\n",
       "      <td>7.838000</td>\n",
       "    </tr>\n",
       "    <tr>\n",
       "      <th>75%</th>\n",
       "      <td>7233.015000</td>\n",
       "      <td>14667.927500</td>\n",
       "      <td>9077.727500</td>\n",
       "      <td>5038.750000</td>\n",
       "      <td>5588.437500</td>\n",
       "      <td>2083.975000</td>\n",
       "      <td>4.703947e+05</td>\n",
       "      <td>8.339750</td>\n",
       "    </tr>\n",
       "    <tr>\n",
       "      <th>max</th>\n",
       "      <td>148002.920000</td>\n",
       "      <td>196756.590000</td>\n",
       "      <td>111222.000000</td>\n",
       "      <td>51600.000000</td>\n",
       "      <td>40787.550000</td>\n",
       "      <td>53193.000000</td>\n",
       "      <td>1.991021e+06</td>\n",
       "      <td>9.240000</td>\n",
       "    </tr>\n",
       "  </tbody>\n",
       "</table>\n",
       "</div>"
      ],
      "text/plain": [
       "                  FB            PSB            PVB            MF  \\\n",
       "count    1198.000000    1198.000000    1198.000000   1198.000000   \n",
       "mean    -1031.049850    2003.389917    1741.919992   -287.868456   \n",
       "std     18751.010821   30173.031078   16769.199933  10416.395346   \n",
       "min    -90932.070000 -262954.190000  -74110.210000 -59277.670000   \n",
       "25%    -10037.715000  -10058.137500   -5830.362500  -5287.500000   \n",
       "50%     -1202.500000    3287.800000    1286.460000     69.285000   \n",
       "75%      7233.015000   14667.927500    9077.727500   5038.750000   \n",
       "max    148002.920000  196756.590000  111222.000000  51600.000000   \n",
       "\n",
       "              OTHER            PD         TOTAL  yield_ratio  \n",
       "count   1198.000000   1198.000000  1.198000e+03  1198.000000  \n",
       "mean    2134.394758  -4560.786327  3.917624e+05     7.864567  \n",
       "std     6727.396042  11943.331351  2.444663e+05     0.653576  \n",
       "min   -38162.100000 -57281.050000  5.530640e+04     6.187000  \n",
       "25%    -1395.132500 -10725.142500  2.321439e+05     7.506250  \n",
       "50%     2023.590000  -3315.005000  3.322311e+05     7.838000  \n",
       "75%     5588.437500   2083.975000  4.703947e+05     8.339750  \n",
       "max    40787.550000  53193.000000  1.991021e+06     9.240000  "
      ]
     },
     "execution_count": 5,
     "metadata": {},
     "output_type": "execute_result"
    }
   ],
   "source": [
    "#df.describe()\n",
    "df.dropna(inplace = True)\n",
    "df.describe()\n"
   ]
  },
  {
   "cell_type": "code",
   "execution_count": 6,
   "metadata": {
    "collapsed": false
   },
   "outputs": [
    {
     "data": {
      "text/plain": [
       "pandas.core.series.Series"
      ]
     },
     "execution_count": 6,
     "metadata": {},
     "output_type": "execute_result"
    }
   ],
   "source": [
    "type(df['FB'])"
   ]
  },
  {
   "cell_type": "code",
   "execution_count": 7,
   "metadata": {
    "collapsed": false
   },
   "outputs": [
    {
     "name": "stderr",
     "output_type": "stream",
     "text": [
      "C:\\Users\\kunal\\Anaconda3\\lib\\site-packages\\ipykernel\\__main__.py:2: FutureWarning: pd.rolling_mean is deprecated for Series and will be removed in a future version, replace with \n",
      "\tSeries.rolling(window=2,center=False).mean()\n",
      "  from ipykernel import kernelapp as app\n"
     ]
    }
   ],
   "source": [
    "# calculation of moving point average\n",
    "a = pd.rolling_mean(df['yield_ratio'], 2)"
   ]
  },
  {
   "cell_type": "code",
   "execution_count": 8,
   "metadata": {
    "collapsed": false
   },
   "outputs": [
    {
     "data": {
      "text/plain": [
       "pandas.core.series.Series"
      ]
     },
     "execution_count": 8,
     "metadata": {},
     "output_type": "execute_result"
    }
   ],
   "source": [
    "type(a)"
   ]
  },
  {
   "cell_type": "code",
   "execution_count": 9,
   "metadata": {
    "collapsed": false
   },
   "outputs": [],
   "source": [
    "df.drop([0,1], inplace = True)\n"
   ]
  },
  {
   "cell_type": "code",
   "execution_count": 10,
   "metadata": {
    "collapsed": false
   },
   "outputs": [],
   "source": [
    "df['moving_average'] = a\n",
    "df.head()\n",
    "df_train = df.copy()\n"
   ]
  },
  {
   "cell_type": "code",
   "execution_count": 11,
   "metadata": {
    "collapsed": false
   },
   "outputs": [],
   "source": [
    "df_train.drop(['moving_average', 'yield_ratio'], axis = 1, inplace = True)"
   ]
  },
  {
   "cell_type": "code",
   "execution_count": 12,
   "metadata": {
    "collapsed": false
   },
   "outputs": [
    {
     "name": "stdout",
     "output_type": "stream",
     "text": [
      "1196\n",
      "1196\n"
     ]
    },
    {
     "data": {
      "text/plain": [
       "numpy.ndarray"
      ]
     },
     "execution_count": 12,
     "metadata": {},
     "output_type": "execute_result"
    }
   ],
   "source": [
    "input_data = df_train.as_matrix()\n",
    "type(input_data)\n",
    "print(len(input_data))\n",
    "target = np.asarray(df['moving_average'])\n",
    "print(len(target))\n",
    "type(target)\n"
   ]
  },
  {
   "cell_type": "code",
   "execution_count": 13,
   "metadata": {
    "collapsed": true
   },
   "outputs": [],
   "source": [
    "from sklearn.ensemble import RandomForestRegressor"
   ]
  },
  {
   "cell_type": "code",
   "execution_count": 14,
   "metadata": {
    "collapsed": false
   },
   "outputs": [],
   "source": [
    "X = input_data\n",
    "Y = target\n",
    "clf = RandomForestRegressor(n_estimators = 100)\n",
    "clf = clf.fit(X,Y)"
   ]
  },
  {
   "cell_type": "code",
   "execution_count": 15,
   "metadata": {
    "collapsed": true
   },
   "outputs": [],
   "source": [
    "predicted_values = clf.predict(X)"
   ]
  },
  {
   "cell_type": "code",
   "execution_count": 16,
   "metadata": {
    "collapsed": false
   },
   "outputs": [
    {
     "data": {
      "text/plain": [
       "1196"
      ]
     },
     "execution_count": 16,
     "metadata": {},
     "output_type": "execute_result"
    }
   ],
   "source": [
    "len(predicted_values)"
   ]
  },
  {
   "cell_type": "code",
   "execution_count": 17,
   "metadata": {
    "collapsed": true
   },
   "outputs": [],
   "source": [
    "Pred = pd.Series(predicted_values)"
   ]
  },
  {
   "cell_type": "code",
   "execution_count": 18,
   "metadata": {
    "collapsed": true
   },
   "outputs": [],
   "source": [
    "df['Predicted_values'] = Pred"
   ]
  },
  {
   "cell_type": "code",
   "execution_count": 19,
   "metadata": {
    "collapsed": false
   },
   "outputs": [
    {
     "data": {
      "text/html": [
       "<div>\n",
       "<table border=\"1\" class=\"dataframe\">\n",
       "  <thead>\n",
       "    <tr style=\"text-align: right;\">\n",
       "      <th></th>\n",
       "      <th>FB</th>\n",
       "      <th>PSB</th>\n",
       "      <th>PVB</th>\n",
       "      <th>MF</th>\n",
       "      <th>OTHER</th>\n",
       "      <th>PD</th>\n",
       "      <th>TOTAL</th>\n",
       "      <th>yield_ratio</th>\n",
       "      <th>moving_average</th>\n",
       "      <th>Predicted_values</th>\n",
       "    </tr>\n",
       "  </thead>\n",
       "  <tbody>\n",
       "    <tr>\n",
       "      <th>2</th>\n",
       "      <td>-3342.33</td>\n",
       "      <td>-4013.30</td>\n",
       "      <td>403.48</td>\n",
       "      <td>100.14</td>\n",
       "      <td>6266.56</td>\n",
       "      <td>585.45</td>\n",
       "      <td>103720.20</td>\n",
       "      <td>8.514</td>\n",
       "      <td>8.5130</td>\n",
       "      <td>8.525355</td>\n",
       "    </tr>\n",
       "    <tr>\n",
       "      <th>3</th>\n",
       "      <td>-13724.92</td>\n",
       "      <td>-2453.00</td>\n",
       "      <td>17583.50</td>\n",
       "      <td>2835.48</td>\n",
       "      <td>5715.03</td>\n",
       "      <td>-9956.09</td>\n",
       "      <td>134772.50</td>\n",
       "      <td>8.526</td>\n",
       "      <td>8.5200</td>\n",
       "      <td>8.445800</td>\n",
       "    </tr>\n",
       "    <tr>\n",
       "      <th>4</th>\n",
       "      <td>-6322.56</td>\n",
       "      <td>348.05</td>\n",
       "      <td>5393.99</td>\n",
       "      <td>-2200.00</td>\n",
       "      <td>8460.29</td>\n",
       "      <td>-5679.77</td>\n",
       "      <td>87283.50</td>\n",
       "      <td>8.539</td>\n",
       "      <td>8.5325</td>\n",
       "      <td>8.477490</td>\n",
       "    </tr>\n",
       "    <tr>\n",
       "      <th>5</th>\n",
       "      <td>1335.00</td>\n",
       "      <td>-1485.00</td>\n",
       "      <td>-369.70</td>\n",
       "      <td>2250.00</td>\n",
       "      <td>2945.00</td>\n",
       "      <td>-4675.30</td>\n",
       "      <td>108497.40</td>\n",
       "      <td>8.537</td>\n",
       "      <td>8.5380</td>\n",
       "      <td>8.453275</td>\n",
       "    </tr>\n",
       "    <tr>\n",
       "      <th>6</th>\n",
       "      <td>5503.01</td>\n",
       "      <td>-5252.77</td>\n",
       "      <td>-3450.07</td>\n",
       "      <td>-600.00</td>\n",
       "      <td>7070.39</td>\n",
       "      <td>-3270.55</td>\n",
       "      <td>124396.20</td>\n",
       "      <td>8.519</td>\n",
       "      <td>8.5280</td>\n",
       "      <td>8.482775</td>\n",
       "    </tr>\n",
       "    <tr>\n",
       "      <th>7</th>\n",
       "      <td>6650.00</td>\n",
       "      <td>-3025.50</td>\n",
       "      <td>-6826.70</td>\n",
       "      <td>1550.00</td>\n",
       "      <td>4302.20</td>\n",
       "      <td>-2650.00</td>\n",
       "      <td>131941.80</td>\n",
       "      <td>8.497</td>\n",
       "      <td>8.5080</td>\n",
       "      <td>8.489985</td>\n",
       "    </tr>\n",
       "    <tr>\n",
       "      <th>8</th>\n",
       "      <td>4116.68</td>\n",
       "      <td>305.00</td>\n",
       "      <td>-4409.06</td>\n",
       "      <td>-816.68</td>\n",
       "      <td>4434.00</td>\n",
       "      <td>-3629.94</td>\n",
       "      <td>110307.10</td>\n",
       "      <td>8.523</td>\n",
       "      <td>8.5100</td>\n",
       "      <td>8.487852</td>\n",
       "    </tr>\n",
       "    <tr>\n",
       "      <th>9</th>\n",
       "      <td>2790.00</td>\n",
       "      <td>-7025.46</td>\n",
       "      <td>-2595.78</td>\n",
       "      <td>-1550.00</td>\n",
       "      <td>6547.84</td>\n",
       "      <td>1833.40</td>\n",
       "      <td>111888.00</td>\n",
       "      <td>8.512</td>\n",
       "      <td>8.5175</td>\n",
       "      <td>8.360850</td>\n",
       "    </tr>\n",
       "    <tr>\n",
       "      <th>10</th>\n",
       "      <td>2889.63</td>\n",
       "      <td>4023.40</td>\n",
       "      <td>1640.10</td>\n",
       "      <td>-2666.00</td>\n",
       "      <td>1627.97</td>\n",
       "      <td>-7515.09</td>\n",
       "      <td>100854.90</td>\n",
       "      <td>8.519</td>\n",
       "      <td>8.5155</td>\n",
       "      <td>8.366265</td>\n",
       "    </tr>\n",
       "    <tr>\n",
       "      <th>11</th>\n",
       "      <td>-14033.95</td>\n",
       "      <td>-3304.60</td>\n",
       "      <td>10392.60</td>\n",
       "      <td>5100.00</td>\n",
       "      <td>5991.96</td>\n",
       "      <td>-4146.01</td>\n",
       "      <td>186316.91</td>\n",
       "      <td>8.525</td>\n",
       "      <td>8.5220</td>\n",
       "      <td>8.187690</td>\n",
       "    </tr>\n",
       "    <tr>\n",
       "      <th>12</th>\n",
       "      <td>26839.58</td>\n",
       "      <td>-50049.26</td>\n",
       "      <td>3766.72</td>\n",
       "      <td>-1300.00</td>\n",
       "      <td>-5433.55</td>\n",
       "      <td>26176.50</td>\n",
       "      <td>343422.81</td>\n",
       "      <td>8.498</td>\n",
       "      <td>8.5115</td>\n",
       "      <td>8.144235</td>\n",
       "    </tr>\n",
       "    <tr>\n",
       "      <th>13</th>\n",
       "      <td>-4814.50</td>\n",
       "      <td>-8274.46</td>\n",
       "      <td>10290.87</td>\n",
       "      <td>1844.03</td>\n",
       "      <td>8046.69</td>\n",
       "      <td>-7092.63</td>\n",
       "      <td>272758.81</td>\n",
       "      <td>8.375</td>\n",
       "      <td>8.4365</td>\n",
       "      <td>8.146845</td>\n",
       "    </tr>\n",
       "    <tr>\n",
       "      <th>14</th>\n",
       "      <td>12450.00</td>\n",
       "      <td>-21205.55</td>\n",
       "      <td>709.28</td>\n",
       "      <td>6450.00</td>\n",
       "      <td>4302.47</td>\n",
       "      <td>-2706.20</td>\n",
       "      <td>329786.19</td>\n",
       "      <td>8.324</td>\n",
       "      <td>8.3495</td>\n",
       "      <td>8.393350</td>\n",
       "    </tr>\n",
       "    <tr>\n",
       "      <th>15</th>\n",
       "      <td>7150.00</td>\n",
       "      <td>-17205.00</td>\n",
       "      <td>12680.00</td>\n",
       "      <td>200.00</td>\n",
       "      <td>-856.00</td>\n",
       "      <td>-1969.00</td>\n",
       "      <td>252532.80</td>\n",
       "      <td>8.341</td>\n",
       "      <td>8.3325</td>\n",
       "      <td>8.246010</td>\n",
       "    </tr>\n",
       "    <tr>\n",
       "      <th>16</th>\n",
       "      <td>-18650.00</td>\n",
       "      <td>19110.30</td>\n",
       "      <td>-748.85</td>\n",
       "      <td>800.00</td>\n",
       "      <td>5576.55</td>\n",
       "      <td>-6088.00</td>\n",
       "      <td>140376.80</td>\n",
       "      <td>8.373</td>\n",
       "      <td>8.3570</td>\n",
       "      <td>8.288190</td>\n",
       "    </tr>\n",
       "    <tr>\n",
       "      <th>17</th>\n",
       "      <td>29450.00</td>\n",
       "      <td>-16975.00</td>\n",
       "      <td>-5499.50</td>\n",
       "      <td>-1264.50</td>\n",
       "      <td>-2298.08</td>\n",
       "      <td>-3412.92</td>\n",
       "      <td>273087.31</td>\n",
       "      <td>8.349</td>\n",
       "      <td>8.3610</td>\n",
       "      <td>8.371468</td>\n",
       "    </tr>\n",
       "    <tr>\n",
       "      <th>18</th>\n",
       "      <td>4180.23</td>\n",
       "      <td>2094.90</td>\n",
       "      <td>-2543.36</td>\n",
       "      <td>7254.16</td>\n",
       "      <td>6161.42</td>\n",
       "      <td>-17147.35</td>\n",
       "      <td>297032.91</td>\n",
       "      <td>8.358</td>\n",
       "      <td>8.3535</td>\n",
       "      <td>8.105740</td>\n",
       "    </tr>\n",
       "    <tr>\n",
       "      <th>19</th>\n",
       "      <td>9186.46</td>\n",
       "      <td>-9751.60</td>\n",
       "      <td>-903.64</td>\n",
       "      <td>1900.00</td>\n",
       "      <td>1808.10</td>\n",
       "      <td>-2239.32</td>\n",
       "      <td>228702.59</td>\n",
       "      <td>8.336</td>\n",
       "      <td>8.3470</td>\n",
       "      <td>7.960835</td>\n",
       "    </tr>\n",
       "    <tr>\n",
       "      <th>20</th>\n",
       "      <td>9995.00</td>\n",
       "      <td>-14222.66</td>\n",
       "      <td>3648.55</td>\n",
       "      <td>-493.98</td>\n",
       "      <td>-1924.21</td>\n",
       "      <td>2997.30</td>\n",
       "      <td>426821.41</td>\n",
       "      <td>8.087</td>\n",
       "      <td>8.2115</td>\n",
       "      <td>7.939015</td>\n",
       "    </tr>\n",
       "    <tr>\n",
       "      <th>21</th>\n",
       "      <td>-8832.20</td>\n",
       "      <td>24886.16</td>\n",
       "      <td>-5784.05</td>\n",
       "      <td>-3250.00</td>\n",
       "      <td>517.52</td>\n",
       "      <td>-7537.42</td>\n",
       "      <td>354643.91</td>\n",
       "      <td>8.036</td>\n",
       "      <td>8.0615</td>\n",
       "      <td>8.168899</td>\n",
       "    </tr>\n",
       "  </tbody>\n",
       "</table>\n",
       "</div>"
      ],
      "text/plain": [
       "          FB       PSB       PVB       MF    OTHER        PD      TOTAL  \\\n",
       "2   -3342.33  -4013.30    403.48   100.14  6266.56    585.45  103720.20   \n",
       "3  -13724.92  -2453.00  17583.50  2835.48  5715.03  -9956.09  134772.50   \n",
       "4   -6322.56    348.05   5393.99 -2200.00  8460.29  -5679.77   87283.50   \n",
       "5    1335.00  -1485.00   -369.70  2250.00  2945.00  -4675.30  108497.40   \n",
       "6    5503.01  -5252.77  -3450.07  -600.00  7070.39  -3270.55  124396.20   \n",
       "7    6650.00  -3025.50  -6826.70  1550.00  4302.20  -2650.00  131941.80   \n",
       "8    4116.68    305.00  -4409.06  -816.68  4434.00  -3629.94  110307.10   \n",
       "9    2790.00  -7025.46  -2595.78 -1550.00  6547.84   1833.40  111888.00   \n",
       "10   2889.63   4023.40   1640.10 -2666.00  1627.97  -7515.09  100854.90   \n",
       "11 -14033.95  -3304.60  10392.60  5100.00  5991.96  -4146.01  186316.91   \n",
       "12  26839.58 -50049.26   3766.72 -1300.00 -5433.55  26176.50  343422.81   \n",
       "13  -4814.50  -8274.46  10290.87  1844.03  8046.69  -7092.63  272758.81   \n",
       "14  12450.00 -21205.55    709.28  6450.00  4302.47  -2706.20  329786.19   \n",
       "15   7150.00 -17205.00  12680.00   200.00  -856.00  -1969.00  252532.80   \n",
       "16 -18650.00  19110.30   -748.85   800.00  5576.55  -6088.00  140376.80   \n",
       "17  29450.00 -16975.00  -5499.50 -1264.50 -2298.08  -3412.92  273087.31   \n",
       "18   4180.23   2094.90  -2543.36  7254.16  6161.42 -17147.35  297032.91   \n",
       "19   9186.46  -9751.60   -903.64  1900.00  1808.10  -2239.32  228702.59   \n",
       "20   9995.00 -14222.66   3648.55  -493.98 -1924.21   2997.30  426821.41   \n",
       "21  -8832.20  24886.16  -5784.05 -3250.00   517.52  -7537.42  354643.91   \n",
       "\n",
       "    yield_ratio  moving_average  Predicted_values  \n",
       "2         8.514          8.5130          8.525355  \n",
       "3         8.526          8.5200          8.445800  \n",
       "4         8.539          8.5325          8.477490  \n",
       "5         8.537          8.5380          8.453275  \n",
       "6         8.519          8.5280          8.482775  \n",
       "7         8.497          8.5080          8.489985  \n",
       "8         8.523          8.5100          8.487852  \n",
       "9         8.512          8.5175          8.360850  \n",
       "10        8.519          8.5155          8.366265  \n",
       "11        8.525          8.5220          8.187690  \n",
       "12        8.498          8.5115          8.144235  \n",
       "13        8.375          8.4365          8.146845  \n",
       "14        8.324          8.3495          8.393350  \n",
       "15        8.341          8.3325          8.246010  \n",
       "16        8.373          8.3570          8.288190  \n",
       "17        8.349          8.3610          8.371468  \n",
       "18        8.358          8.3535          8.105740  \n",
       "19        8.336          8.3470          7.960835  \n",
       "20        8.087          8.2115          7.939015  \n",
       "21        8.036          8.0615          8.168899  "
      ]
     },
     "execution_count": 19,
     "metadata": {},
     "output_type": "execute_result"
    }
   ],
   "source": [
    "df.head(20)"
   ]
  },
  {
   "cell_type": "code",
   "execution_count": 20,
   "metadata": {
    "collapsed": false
   },
   "outputs": [],
   "source": [
    "cost_error = (df['moving_average'] - df['Predicted_values'])\n"
   ]
  },
  {
   "cell_type": "code",
   "execution_count": 21,
   "metadata": {
    "collapsed": false
   },
   "outputs": [],
   "source": [
    "cost_error.dropna(inplace = True)\n",
    "\n"
   ]
  },
  {
   "cell_type": "code",
   "execution_count": 25,
   "metadata": {
    "collapsed": false
   },
   "outputs": [
    {
     "data": {
      "text/plain": [
       "numpy.ndarray"
      ]
     },
     "execution_count": 25,
     "metadata": {},
     "output_type": "execute_result"
    }
   ],
   "source": [
    "total_cost = np.array(cost_error)\n",
    "type(np.array(cost_error))"
   ]
  },
  {
   "cell_type": "code",
   "execution_count": 28,
   "metadata": {
    "collapsed": false
   },
   "outputs": [
    {
     "name": "stdout",
     "output_type": "stream",
     "text": [
      "0.053403618434\n"
     ]
    }
   ],
   "source": [
    "squared_error = np.sum(np.square(total_cost))/len(total_cost)\n",
    "print(squared_error)"
   ]
  },
  {
   "cell_type": "code",
   "execution_count": 29,
   "metadata": {
    "collapsed": true
   },
   "outputs": [],
   "source": [
    "import matplotlib.pyplot as plt\n",
    "% matplotlib inline"
   ]
  },
  {
   "cell_type": "code",
   "execution_count": 33,
   "metadata": {
    "collapsed": false
   },
   "outputs": [
    {
     "data": {
      "text/plain": [
       "<matplotlib.legend.Legend at 0x2150d2498d0>"
      ]
     },
     "execution_count": 33,
     "metadata": {},
     "output_type": "execute_result"
    },
    {
     "data": {
      "image/png": "[encoded data removed]",
      "text/plain": [
       "<matplotlib.figure.Figure at 0x2150e8a1b38>"
      ]
     },
     "metadata": {},
     "output_type": "display_data"
    }
   ],
   "source": [
    "plt.plot(range(len(df)), df['moving_average'], 'r')\n",
    "plt.plot(range(len(df)), df['Predicted_values'], 'b')\n",
    "plt.legend()"
   ]
  },
  {
   "cell_type": "code",
   "execution_count": 48,
   "metadata": {
    "collapsed": false
   },
   "outputs": [
    {
     "data": {
      "text/plain": [
       "(7,)"
      ]
     },
     "execution_count": 48,
     "metadata": {},
     "output_type": "execute_result"
    }
   ],
   "source": [
    "imp = clf.feature_importances_\n",
    "type(imp)\n",
    "imp.shape"
   ]
  },
  {
   "cell_type": "code",
   "execution_count": 64,
   "metadata": {
    "collapsed": false
   },
   "outputs": [],
   "source": [
    "a = list(df.columns)[:-3]\n"
   ]
  },
  {
   "cell_type": "code",
   "execution_count": 55,
   "metadata": {
    "collapsed": false
   },
   "outputs": [],
   "source": [
    "imp_data = pd.DataFrame({'input_factors' : a, 'relative_imp' : imp})"
   ]
  },
  {
   "cell_type": "code",
   "execution_count": 56,
   "metadata": {
    "collapsed": false
   },
   "outputs": [
    {
     "data": {
      "text/html": [
       "<div>\n",
       "<table border=\"1\" class=\"dataframe\">\n",
       "  <thead>\n",
       "    <tr style=\"text-align: right;\">\n",
       "      <th></th>\n",
       "      <th>input_factors</th>\n",
       "      <th>relative_imp</th>\n",
       "    </tr>\n",
       "  </thead>\n",
       "  <tbody>\n",
       "    <tr>\n",
       "      <th>0</th>\n",
       "      <td>FB</td>\n",
       "      <td>0.115092</td>\n",
       "    </tr>\n",
       "    <tr>\n",
       "      <th>1</th>\n",
       "      <td>PSB</td>\n",
       "      <td>0.103202</td>\n",
       "    </tr>\n",
       "    <tr>\n",
       "      <th>2</th>\n",
       "      <td>PVB</td>\n",
       "      <td>0.085735</td>\n",
       "    </tr>\n",
       "    <tr>\n",
       "      <th>3</th>\n",
       "      <td>MF</td>\n",
       "      <td>0.126407</td>\n",
       "    </tr>\n",
       "    <tr>\n",
       "      <th>4</th>\n",
       "      <td>OTHER</td>\n",
       "      <td>0.100389</td>\n",
       "    </tr>\n",
       "    <tr>\n",
       "      <th>5</th>\n",
       "      <td>PD</td>\n",
       "      <td>0.092581</td>\n",
       "    </tr>\n",
       "    <tr>\n",
       "      <th>6</th>\n",
       "      <td>TOTAL</td>\n",
       "      <td>0.376593</td>\n",
       "    </tr>\n",
       "  </tbody>\n",
       "</table>\n",
       "</div>"
      ],
      "text/plain": [
       "  input_factors  relative_imp\n",
       "0            FB      0.115092\n",
       "1           PSB      0.103202\n",
       "2           PVB      0.085735\n",
       "3            MF      0.126407\n",
       "4         OTHER      0.100389\n",
       "5            PD      0.092581\n",
       "6         TOTAL      0.376593"
      ]
     },
     "execution_count": 56,
     "metadata": {},
     "output_type": "execute_result"
    }
   ],
   "source": [
    "imp_data"
   ]
  },
  {
   "cell_type": "code",
   "execution_count": 74,
   "metadata": {
    "collapsed": false
   },
   "outputs": [
    {
     "data": {
      "text/plain": [
       "<matplotlib.text.Text at 0x2150f5366d8>"
      ]
     },
     "execution_count": 74,
     "metadata": {},
     "output_type": "execute_result"
    },
    {
     "data": {
      "image/png": "[encoded data removed]",
      "text/plain": [
       "<matplotlib.figure.Figure at 0x2150f52e940>"
      ]
     },
     "metadata": {},
     "output_type": "display_data"
    }
   ],
   "source": [
    "plt.figure(figsize = (5,5))\n",
    "graph = plt.bar(np.arange(len(imp_data)), imp_data['relative_imp'], color = 'grey', alpha = 0.3)\n",
    "plt.xticks(np.arange(len(imp_data)), a)\n",
    "i = np.argmin(imp)\n",
    "graph[i].set_color('green')\n",
    "j = np.argmax(imp)\n",
    "graph[j].set_color('red')\n",
    "plt.xlabel('traders')\n",
    "plt.ylabel('relative_importance')"
   ]
  },
  {
   "cell_type": "code",
   "execution_count": 77,
   "metadata": {
    "collapsed": false
   },
   "outputs": [],
   "source": [
    "df.to_excel('C:\\\\Users\\\\kunal\\\\Downloads\\\\pred.xlsx')"
   ]
  },
  {
   "cell_type": "code",
   "execution_count": null,
   "metadata": {
    "collapsed": true
   },
   "outputs": [],
   "source": []
  }
 ],
 "metadata": {
  "anaconda-cloud": {},
  "kernelspec": {
   "display_name": "Python [default]",
   "language": "python",
   "name": "python3"
  },
  "language_info": {
   "codemirror_mode": {
    "name": "ipython",
    "version": 3
   },
   "file_extension": ".py",
   "mimetype": "text/x-python",
   "name": "python",
   "nbconvert_exporter": "python",
   "pygments_lexer": "ipython3",
   "version": "3.5.2"
  }
 },
 "nbformat": 4,
 "nbformat_minor": 1
}
