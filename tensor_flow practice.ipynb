{
 "cells": [
  {
   "cell_type": "code",
   "execution_count": 1,
   "metadata": {
    "collapsed": true
   },
   "outputs": [],
   "source": [
    "import tensorflow as tf\n",
    "\n"
   ]
  },
  {
   "cell_type": "code",
   "execution_count": 14,
   "metadata": {
    "collapsed": true
   },
   "outputs": [],
   "source": [
    "import numpy as np"
   ]
  },
  {
   "cell_type": "code",
   "execution_count": 6,
   "metadata": {
    "collapsed": false
   },
   "outputs": [
    {
     "name": "stdout",
     "output_type": "stream",
     "text": [
      "Tensor(\"Const_4:0\", shape=(), dtype=int32) Tensor(\"Const_5:0\", shape=(), dtype=int32)\n",
      "[3, 4]\n",
      "Tensor(\"Add_2:0\", shape=(), dtype=int32)\n",
      " sess.run  7\n",
      "7.0\n",
      "[ 3.  9.]\n",
      "Tensor(\"mul_4:0\", dtype=float32)\n",
      "40.0\n"
     ]
    }
   ],
   "source": [
    "node1 = tf.constant(3)\n",
    "node2 = tf.constant(4)\n",
    "print (node1, node2)\n",
    "sess = tf.Session()\n",
    "print (sess.run([node1, node2]))\n",
    "node3 = tf.add(node1, node2)\n",
    "print (node3)\n",
    "print (\" sess.run \", sess.run(node3))\n",
    "a = tf.placeholder(tf.float32)\n",
    "b = tf.placeholder(tf.float32)\n",
    "add_node = a+b\n",
    "print (sess.run(add_node, {a:3, b:4}))\n",
    "print (sess.run(add_node, {a:[1,3], b:[2,6]}))\n",
    "c = tf.placeholder(tf.float32)\n",
    "add_triple = add_node*(c)\n",
    "print(add_triple)\n",
    "print (sess.run(add_triple, {a : 4, b: 6, c:4} ))\n",
    "sess.close()\n",
    "\n"
   ]
  },
  {
   "cell_type": "code",
   "execution_count": 7,
   "metadata": {
    "collapsed": false
   },
   "outputs": [
    {
     "name": "stdout",
     "output_type": "stream",
     "text": [
      "Tensor(\"add_5:0\", dtype=float32)\n",
      "[ 0.          0.30000001  0.60000002  0.90000004]\n"
     ]
    }
   ],
   "source": [
    "#sess1 = tf.Session()\n",
    "W  = tf.Variable([0.3], tf.float32)\n",
    "b  = tf.Variable([-0.3], tf.float32)\n",
    "x  = tf.placeholder(tf.float32)\n",
    "linear_model = W*x + b\n",
    "init = tf.global_variables_initializer()\n",
    "with tf.Session() as sess:\n",
    "    sess.run(init)\n",
    "    print(linear_model)\n",
    "    print(sess.run(linear_model, {x:[1,2,3,4]}))\n"
   ]
  },
  {
   "cell_type": "code",
   "execution_count": 9,
   "metadata": {
    "collapsed": false
   },
   "outputs": [
    {
     "name": "stdout",
     "output_type": "stream",
     "text": [
      "23.66\n"
     ]
    }
   ],
   "source": [
    "y = tf.placeholder(tf.float32)\n",
    "delta = tf.square(linear_model - y)\n",
    "residual_sum = tf.reduce_sum(delta)\n",
    "with tf.Session() as sess:\n",
    "    sess.run(init)\n",
    "    print(sess.run(residual_sum, {x:[1,2,3,4], y:[0,-1,-2,-3]}))"
   ]
  },
  {
   "cell_type": "code",
   "execution_count": 10,
   "metadata": {
    "collapsed": false
   },
   "outputs": [
    {
     "name": "stdout",
     "output_type": "stream",
     "text": [
      "0.0\n"
     ]
    }
   ],
   "source": [
    "fixW = tf.assign(W, [-1])\n",
    "fixb = tf.assign(b, [1])\n",
    "with tf.Session() as sess:\n",
    "    sess.run([fixW,fixb])\n",
    "    print (sess.run(residual_sum, {x:[1,2,3,4], y:[0,-1,-2,-3]}))"
   ]
  },
  {
   "cell_type": "code",
   "execution_count": 11,
   "metadata": {
    "collapsed": false
   },
   "outputs": [
    {
     "name": "stdout",
     "output_type": "stream",
     "text": [
      "[array([-0.9999969], dtype=float32), array([ 0.99999082], dtype=float32)]\n"
     ]
    }
   ],
   "source": [
    "optimizer = tf.train.GradientDescentOptimizer(0.01)\n",
    "train = optimizer.minimize(residual_sum)\n",
    "with tf.Session() as sess:\n",
    "    sess.run(init)\n",
    "    for i in range(1000):\n",
    "        sess.run(train, {x : [1,2,3,4], y : [0,-1,-2,-3]})\n",
    "    print(sess.run([W,b]))"
   ]
  },
  {
   "cell_type": "code",
   "execution_count": 18,
   "metadata": {
    "collapsed": false
   },
   "outputs": [
    {
     "name": "stdout",
     "output_type": "stream",
     "text": [
      "INFO:tensorflow:Using default config.\n",
      "INFO:tensorflow:Using config: {'_cluster_spec': <tensorflow.python.training.server_lib.ClusterSpec object at 0x0000025293A83588>, '_task_type': None, '_save_checkpoints_steps': None, '_model_dir': None, '_keep_checkpoint_every_n_hours': 10000, '_is_chief': True, '_num_ps_replicas': 0, '_tf_random_seed': None, '_save_checkpoints_secs': 600, '_master': '', '_num_worker_replicas': 0, '_evaluation_master': '', '_keep_checkpoint_max': 5, '_save_summary_steps': 100, '_environment': 'local', '_task_id': 0, '_tf_config': gpu_options {\n",
      "  per_process_gpu_memory_fraction: 1\n",
      "}\n",
      "}\n",
      "WARNING:tensorflow:Using temporary folder as model directory: C:\\Users\\kunal\\AppData\\Local\\Temp\\tmpg1wfb28p\n",
      "WARNING:tensorflow:Rank of input Tensor (1) should be the same as output_rank (2) for column. Will attempt to expand dims. It is highly recommended that you resize your input, as this behavior may change.\n",
      "WARNING:tensorflow:From C:\\Users\\kunal\\Anaconda3\\lib\\site-packages\\tensorflow\\contrib\\learn\\python\\learn\\estimators\\head.py:615: scalar_summary (from tensorflow.python.ops.logging_ops) is deprecated and will be removed after 2016-11-30.\n",
      "Instructions for updating:\n",
      "Please switch to tf.summary.scalar. Note that tf.summary.scalar uses the node name instead of the tag. This means that TensorFlow will automatically de-duplicate summary names based on the scope they are created in. Also, passing a tensor or list of tags to a scalar summary op is no longer supported.\n",
      "INFO:tensorflow:Create CheckpointSaverHook.\n",
      "INFO:tensorflow:Saving checkpoints for 1 into C:\\Users\\kunal\\AppData\\Local\\Temp\\tmpg1wfb28p\\model.ckpt.\n",
      "INFO:tensorflow:step = 1, loss = 7.0\n",
      "INFO:tensorflow:global_step/sec: 770.591\n",
      "INFO:tensorflow:step = 101, loss = 0.0761896 (0.145 sec)\n",
      "INFO:tensorflow:global_step/sec: 769.052\n",
      "INFO:tensorflow:step = 201, loss = 0.0458373 (0.114 sec)\n",
      "INFO:tensorflow:global_step/sec: 999.398\n",
      "INFO:tensorflow:step = 301, loss = 0.00681612 (0.100 sec)\n",
      "INFO:tensorflow:global_step/sec: 993.972\n",
      "INFO:tensorflow:step = 401, loss = 0.0015492 (0.101 sec)\n",
      "INFO:tensorflow:global_step/sec: 930.482\n",
      "INFO:tensorflow:step = 501, loss = 0.000817536 (0.123 sec)\n",
      "INFO:tensorflow:global_step/sec: 810.906\n",
      "INFO:tensorflow:step = 601, loss = 0.000255116 (0.108 sec)\n",
      "INFO:tensorflow:global_step/sec: 995.529\n",
      "INFO:tensorflow:step = 701, loss = 5.51902e-05 (0.100 sec)\n",
      "INFO:tensorflow:global_step/sec: 988.365\n",
      "INFO:tensorflow:step = 801, loss = 3.16606e-05 (0.101 sec)\n",
      "INFO:tensorflow:global_step/sec: 1260.52\n",
      "INFO:tensorflow:step = 901, loss = 5.76279e-06 (0.079 sec)\n",
      "INFO:tensorflow:Saving checkpoints for 1000 into C:\\Users\\kunal\\AppData\\Local\\Temp\\tmpg1wfb28p\\model.ckpt.\n",
      "INFO:tensorflow:Loss for final step: 6.0153e-07.\n",
      "WARNING:tensorflow:Rank of input Tensor (1) should be the same as output_rank (2) for column. Will attempt to expand dims. It is highly recommended that you resize your input, as this behavior may change.\n",
      "WARNING:tensorflow:From C:\\Users\\kunal\\Anaconda3\\lib\\site-packages\\tensorflow\\contrib\\learn\\python\\learn\\estimators\\head.py:615: scalar_summary (from tensorflow.python.ops.logging_ops) is deprecated and will be removed after 2016-11-30.\n",
      "Instructions for updating:\n",
      "Please switch to tf.summary.scalar. Note that tf.summary.scalar uses the node name instead of the tag. This means that TensorFlow will automatically de-duplicate summary names based on the scope they are created in. Also, passing a tensor or list of tags to a scalar summary op is no longer supported.\n",
      "INFO:tensorflow:Starting evaluation at 2017-05-16-07:49:56\n",
      "INFO:tensorflow:Restoring parameters from C:\\Users\\kunal\\AppData\\Local\\Temp\\tmpg1wfb28p\\model.ckpt-1000\n",
      "INFO:tensorflow:Finished evaluation at 2017-05-16-07:49:57\n",
      "INFO:tensorflow:Saving dict for global step 1000: global_step = 1000, loss = 1.69709e-06\n",
      "WARNING:tensorflow:Skipping summary for global_step, must be a float or np.float32.\n",
      "{'loss': 1.6970869e-06, 'global_step': 1000}\n"
     ]
    }
   ],
   "source": [
    "features = [tf.contrib.layers.real_valued_column(\"x\", dimension = 1)]\n",
    "estimator = tf.contrib.learn.LinearRegressor(feature_columns = features)\n",
    "\n",
    "x = np.array([1,2,3,4])\n",
    "y = np.array([0,-1,-2,-3])\n",
    "\n",
    "input_fn = tf.contrib.learn.io.numpy_input_fn({\"x\" : x}, y, batch_size = 4, num_epochs = 1000)\n",
    "estimator.fit(input_fn = input_fn, steps = 1000)\n",
    "\n",
    "print(estimator.evaluate(input_fn = input_fn))"
   ]
  },
  {
   "cell_type": "code",
   "execution_count": 23,
   "metadata": {
    "collapsed": false
   },
   "outputs": [
    {
     "name": "stdout",
     "output_type": "stream",
     "text": [
      "b' Hello world'\n"
     ]
    },
    {
     "data": {
      "text/plain": [
       "tensorflow.python.framework.ops.Tensor"
      ]
     },
     "execution_count": 23,
     "metadata": {},
     "output_type": "execute_result"
    }
   ],
   "source": [
    "hello = tf.constant(' Hello world')\n",
    "with tf.Session() as sess:\n",
    "    print(sess.run(hello))\n",
    "    \n",
    "type(hello)"
   ]
  },
  {
   "cell_type": "code",
   "execution_count": null,
   "metadata": {
    "collapsed": true
   },
   "outputs": [],
   "source": []
  }
 ],
 "metadata": {
  "anaconda-cloud": {},
  "kernelspec": {
   "display_name": "Python [default]",
   "language": "python",
   "name": "python3"
  },
  "language_info": {
   "codemirror_mode": {
    "name": "ipython",
    "version": 3
   },
   "file_extension": ".py",
   "mimetype": "text/x-python",
   "name": "python",
   "nbconvert_exporter": "python",
   "pygments_lexer": "ipython3",
   "version": "3.5.2"
  }
 },
 "nbformat": 4,
 "nbformat_minor": 1
}
