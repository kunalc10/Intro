{
 "cells": [
  {
   "cell_type": "code",
   "execution_count": 1,
   "metadata": {
    "collapsed": true
   },
   "outputs": [],
   "source": [
    "import pandas as pd\n",
    "import numpy as np\n",
    "%matplotlib inline\n",
    "import matplotlib.pyplot as plt\n",
    "from sklearn.tree import DecisionTreeClassifier\n",
    "from sklearn.cross_validation import train_test_split\n",
    "import sklearn.metrics\n"
   ]
  },
  {
   "cell_type": "code",
   "execution_count": 2,
   "metadata": {
    "collapsed": false
   },
   "outputs": [
    {
     "data": {
      "text/html": [
       "<div>\n",
       "<table border=\"1\" class=\"dataframe\">\n",
       "  <thead>\n",
       "    <tr style=\"text-align: right;\">\n",
       "      <th></th>\n",
       "      <th>BIO_SEX</th>\n",
       "      <th>HISPANIC</th>\n",
       "      <th>WHITE</th>\n",
       "      <th>BLACK</th>\n",
       "      <th>NAMERICAN</th>\n",
       "      <th>ASIAN</th>\n",
       "      <th>age</th>\n",
       "      <th>TREG1</th>\n",
       "      <th>ALCEVR1</th>\n",
       "      <th>ALCPROBS1</th>\n",
       "      <th>...</th>\n",
       "      <th>ESTEEM1</th>\n",
       "      <th>VIOL1</th>\n",
       "      <th>PASSIST</th>\n",
       "      <th>DEVIANT1</th>\n",
       "      <th>SCHCONN1</th>\n",
       "      <th>GPA1</th>\n",
       "      <th>EXPEL1</th>\n",
       "      <th>FAMCONCT</th>\n",
       "      <th>PARACTV</th>\n",
       "      <th>PARPRES</th>\n",
       "    </tr>\n",
       "  </thead>\n",
       "  <tbody>\n",
       "    <tr>\n",
       "      <th>0</th>\n",
       "      <td>2.0</td>\n",
       "      <td>0.0</td>\n",
       "      <td>0.0</td>\n",
       "      <td>1.0</td>\n",
       "      <td>0.0</td>\n",
       "      <td>0.0</td>\n",
       "      <td>NaN</td>\n",
       "      <td>0.0</td>\n",
       "      <td>1.0</td>\n",
       "      <td>2</td>\n",
       "      <td>...</td>\n",
       "      <td>47.0</td>\n",
       "      <td>4.0</td>\n",
       "      <td>0</td>\n",
       "      <td>5.0</td>\n",
       "      <td>NaN</td>\n",
       "      <td>NaN</td>\n",
       "      <td>0.0</td>\n",
       "      <td>24.3</td>\n",
       "      <td>8.0</td>\n",
       "      <td>15.0</td>\n",
       "    </tr>\n",
       "    <tr>\n",
       "      <th>1</th>\n",
       "      <td>2.0</td>\n",
       "      <td>0.0</td>\n",
       "      <td>0.0</td>\n",
       "      <td>1.0</td>\n",
       "      <td>0.0</td>\n",
       "      <td>0.0</td>\n",
       "      <td>19.427397</td>\n",
       "      <td>1.0</td>\n",
       "      <td>1.0</td>\n",
       "      <td>1</td>\n",
       "      <td>...</td>\n",
       "      <td>35.0</td>\n",
       "      <td>1.0</td>\n",
       "      <td>0</td>\n",
       "      <td>5.0</td>\n",
       "      <td>22.0</td>\n",
       "      <td>2.333333</td>\n",
       "      <td>0.0</td>\n",
       "      <td>23.3</td>\n",
       "      <td>9.0</td>\n",
       "      <td>15.0</td>\n",
       "    </tr>\n",
       "    <tr>\n",
       "      <th>2</th>\n",
       "      <td>1.0</td>\n",
       "      <td>0.0</td>\n",
       "      <td>1.0</td>\n",
       "      <td>0.0</td>\n",
       "      <td>0.0</td>\n",
       "      <td>0.0</td>\n",
       "      <td>NaN</td>\n",
       "      <td>0.0</td>\n",
       "      <td>0.0</td>\n",
       "      <td>0</td>\n",
       "      <td>...</td>\n",
       "      <td>45.0</td>\n",
       "      <td>0.0</td>\n",
       "      <td>0</td>\n",
       "      <td>1.0</td>\n",
       "      <td>30.0</td>\n",
       "      <td>2.250000</td>\n",
       "      <td>0.0</td>\n",
       "      <td>24.3</td>\n",
       "      <td>3.0</td>\n",
       "      <td>15.0</td>\n",
       "    </tr>\n",
       "    <tr>\n",
       "      <th>3</th>\n",
       "      <td>1.0</td>\n",
       "      <td>0.0</td>\n",
       "      <td>0.0</td>\n",
       "      <td>1.0</td>\n",
       "      <td>0.0</td>\n",
       "      <td>0.0</td>\n",
       "      <td>20.430137</td>\n",
       "      <td>1.0</td>\n",
       "      <td>0.0</td>\n",
       "      <td>0</td>\n",
       "      <td>...</td>\n",
       "      <td>47.0</td>\n",
       "      <td>4.0</td>\n",
       "      <td>1</td>\n",
       "      <td>4.0</td>\n",
       "      <td>19.0</td>\n",
       "      <td>2.000000</td>\n",
       "      <td>0.0</td>\n",
       "      <td>18.7</td>\n",
       "      <td>6.0</td>\n",
       "      <td>14.0</td>\n",
       "    </tr>\n",
       "    <tr>\n",
       "      <th>4</th>\n",
       "      <td>2.0</td>\n",
       "      <td>0.0</td>\n",
       "      <td>0.0</td>\n",
       "      <td>1.0</td>\n",
       "      <td>0.0</td>\n",
       "      <td>0.0</td>\n",
       "      <td>NaN</td>\n",
       "      <td>0.0</td>\n",
       "      <td>1.0</td>\n",
       "      <td>0</td>\n",
       "      <td>...</td>\n",
       "      <td>39.0</td>\n",
       "      <td>0.0</td>\n",
       "      <td>0</td>\n",
       "      <td>5.0</td>\n",
       "      <td>32.0</td>\n",
       "      <td>3.000000</td>\n",
       "      <td>0.0</td>\n",
       "      <td>20.0</td>\n",
       "      <td>9.0</td>\n",
       "      <td>6.0</td>\n",
       "    </tr>\n",
       "  </tbody>\n",
       "</table>\n",
       "<p>5 rows × 25 columns</p>\n",
       "</div>"
      ],
      "text/plain": [
       "   BIO_SEX  HISPANIC  WHITE  BLACK  NAMERICAN  ASIAN        age  TREG1  \\\n",
       "0      2.0       0.0    0.0    1.0        0.0    0.0        NaN    0.0   \n",
       "1      2.0       0.0    0.0    1.0        0.0    0.0  19.427397    1.0   \n",
       "2      1.0       0.0    1.0    0.0        0.0    0.0        NaN    0.0   \n",
       "3      1.0       0.0    0.0    1.0        0.0    0.0  20.430137    1.0   \n",
       "4      2.0       0.0    0.0    1.0        0.0    0.0        NaN    0.0   \n",
       "\n",
       "   ALCEVR1  ALCPROBS1   ...     ESTEEM1  VIOL1  PASSIST  DEVIANT1  SCHCONN1  \\\n",
       "0      1.0          2   ...        47.0    4.0        0       5.0       NaN   \n",
       "1      1.0          1   ...        35.0    1.0        0       5.0      22.0   \n",
       "2      0.0          0   ...        45.0    0.0        0       1.0      30.0   \n",
       "3      0.0          0   ...        47.0    4.0        1       4.0      19.0   \n",
       "4      1.0          0   ...        39.0    0.0        0       5.0      32.0   \n",
       "\n",
       "       GPA1  EXPEL1  FAMCONCT  PARACTV  PARPRES  \n",
       "0       NaN     0.0      24.3      8.0     15.0  \n",
       "1  2.333333     0.0      23.3      9.0     15.0  \n",
       "2  2.250000     0.0      24.3      3.0     15.0  \n",
       "3  2.000000     0.0      18.7      6.0     14.0  \n",
       "4  3.000000     0.0      20.0      9.0      6.0  \n",
       "\n",
       "[5 rows x 25 columns]"
      ]
     },
     "execution_count": 2,
     "metadata": {},
     "output_type": "execute_result"
    }
   ],
   "source": [
    "# laod data set\n",
    "tree = pd.read_csv('F:\\\\machine learning\\\\datasets\\\\COURSERA\\\\t.csv')\n",
    "tree.head(5)"
   ]
  },
  {
   "cell_type": "code",
   "execution_count": 3,
   "metadata": {
    "collapsed": false
   },
   "outputs": [
    {
     "name": "stdout",
     "output_type": "stream",
     "text": [
      "(6504, 25)\n",
      "(4575, 25)\n",
      "           BIO_SEX     HISPANIC        WHITE        BLACK    NAMERICAN  \\\n",
      "count  4575.000000  4575.000000  4575.000000  4575.000000  4575.000000   \n",
      "mean      1.521093     0.111038     0.683279     0.236066     0.036284   \n",
      "std       0.499609     0.314214     0.465249     0.424709     0.187017   \n",
      "min       1.000000     0.000000     0.000000     0.000000     0.000000   \n",
      "25%       1.000000     0.000000     0.000000     0.000000     0.000000   \n",
      "50%       2.000000     0.000000     1.000000     0.000000     0.000000   \n",
      "75%       2.000000     0.000000     1.000000     0.000000     0.000000   \n",
      "max       2.000000     1.000000     1.000000     1.000000     1.000000   \n",
      "\n",
      "             ASIAN          age        TREG1      ALCEVR1    ALCPROBS1  \\\n",
      "count  4575.000000  4575.000000  4575.000000  4575.000000  4575.000000   \n",
      "mean      0.040437    16.493052     0.176393     0.527432     0.369180   \n",
      "std       0.197004     1.552174     0.381196     0.499302     0.894947   \n",
      "min       0.000000    12.676712     0.000000     0.000000     0.000000   \n",
      "25%       0.000000    15.254795     0.000000     0.000000     0.000000   \n",
      "50%       0.000000    16.509589     0.000000     1.000000     0.000000   \n",
      "75%       0.000000    17.679452     0.000000     1.000000     0.000000   \n",
      "max       1.000000    21.512329     1.000000     1.000000     6.000000   \n",
      "\n",
      "          ...           ESTEEM1        VIOL1      PASSIST     DEVIANT1  \\\n",
      "count     ...       4575.000000  4575.000000  4575.000000  4575.000000   \n",
      "mean      ...         40.952131     1.618579     0.102514     2.645027   \n",
      "std       ...          5.381439     2.593230     0.303356     3.520554   \n",
      "min       ...         18.000000     0.000000     0.000000     0.000000   \n",
      "25%       ...         38.000000     0.000000     0.000000     0.000000   \n",
      "50%       ...         40.000000     0.000000     0.000000     1.000000   \n",
      "75%       ...         45.000000     2.000000     0.000000     4.000000   \n",
      "max       ...         50.000000    19.000000     1.000000    27.000000   \n",
      "\n",
      "          SCHCONN1         GPA1       EXPEL1     FAMCONCT      PARACTV  \\\n",
      "count  4575.000000  4575.000000  4575.000000  4575.000000  4575.000000   \n",
      "mean     28.360656     2.815647     0.040219    22.570557     6.290710   \n",
      "std       5.156385     0.770167     0.196493     2.614754     3.360219   \n",
      "min       6.000000     1.000000     0.000000     6.300000     0.000000   \n",
      "25%      25.000000     2.250000     0.000000    21.700000     4.000000   \n",
      "50%      29.000000     2.750000     0.000000    23.700000     6.000000   \n",
      "75%      32.000000     3.500000     0.000000    24.300000     9.000000   \n",
      "max      38.000000     4.000000     1.000000    25.000000    18.000000   \n",
      "\n",
      "           PARPRES  \n",
      "count  4575.000000  \n",
      "mean     13.398033  \n",
      "std       2.085837  \n",
      "min       3.000000  \n",
      "25%      12.000000  \n",
      "50%      14.000000  \n",
      "75%      15.000000  \n",
      "max      15.000000  \n",
      "\n",
      "[8 rows x 25 columns]\n"
     ]
    }
   ],
   "source": [
    "# drop na values & check the information of each column\n",
    "print(tree.shape)\n",
    "tree.dropna(inplace = True)\n",
    "print(tree.shape)\n",
    "print(tree.describe())"
   ]
  },
  {
   "cell_type": "code",
   "execution_count": 4,
   "metadata": {
    "collapsed": false
   },
   "outputs": [
    {
     "data": {
      "text/plain": [
       "marever1     0.433483\n",
       "DEVIANT1     0.336319\n",
       "ALCEVR1      0.318596\n",
       "ALCPROBS1    0.296120\n",
       "GPA1         0.236667\n",
       "dtype: float64"
      ]
     },
     "execution_count": 4,
     "metadata": {},
     "output_type": "execute_result"
    }
   ],
   "source": [
    "# modeling and prediction\n",
    "# estimating the correlation between different attributes and dependent variable\n",
    "def calculate_corr(cell):\n",
    "    return tree['TREG1'].corr(cell)\n",
    "crel = tree.apply(calculate_corr)\n",
    "crel = crel.abs().sort_values(ascending = False).drop('TREG1')\n",
    "crel.head(5)"
   ]
  },
  {
   "cell_type": "code",
   "execution_count": 5,
   "metadata": {
    "collapsed": false
   },
   "outputs": [
    {
     "name": "stdout",
     "output_type": "stream",
     "text": [
      "(2745, 5)\n",
      "(1830, 5)\n",
      "(2745,)\n",
      "(1830,)\n"
     ]
    }
   ],
   "source": [
    "# use top 5, top 7 & top 3 attributes for construction of decision tree\n",
    "# convert crel into respective list\n",
    "top_5_attr = list(crel.index[:5])\n",
    "predicters = tree[top_5_attr]\n",
    "targets = tree['TREG1']\n",
    "pred_train, pred_test, target_train, target_test = train_test_split(predicters, targets, test_size = 0.4 )\n",
    "print (pred_train.shape)\n",
    "print (pred_test.shape)\n",
    "print (target_train.shape)\n",
    "print (target_test.shape)"
   ]
  },
  {
   "cell_type": "code",
   "execution_count": 6,
   "metadata": {
    "collapsed": false
   },
   "outputs": [
    {
     "name": "stdout",
     "output_type": "stream",
     "text": [
      "0.930418943534\n",
      "0.803278688525\n"
     ]
    },
    {
     "data": {
      "text/plain": [
       "array([[1369,  123],\n",
       "       [ 237,  101]])"
      ]
     },
     "execution_count": 6,
     "metadata": {},
     "output_type": "execute_result"
    }
   ],
   "source": [
    "# fit model in decision tree\n",
    "classifier = DecisionTreeClassifier()\n",
    "classifier  = classifier.fit(pred_train, target_train)\n",
    "# check the training error\n",
    "print (sklearn.metrics.accuracy_score(target_train, classifier.predict(pred_train)))\n",
    "# prediction for test set\n",
    "predictions = classifier.predict(pred_test)\n",
    "print (sklearn.metrics.accuracy_score(target_test, predictions))\n",
    "sklearn.metrics.confusion_matrix(target_test, predictions)"
   ]
  },
  {
   "cell_type": "code",
   "execution_count": 7,
   "metadata": {
    "collapsed": false
   },
   "outputs": [
    {
     "name": "stdout",
     "output_type": "stream",
     "text": [
      "0.986520947177\n",
      "0.786885245902\n"
     ]
    },
    {
     "data": {
      "text/plain": [
       "array([[1298,  197],\n",
       "       [ 193,  142]])"
      ]
     },
     "execution_count": 7,
     "metadata": {},
     "output_type": "execute_result"
    }
   ],
   "source": [
    "# fit model using top 7 correlated attributes\n",
    "top_7_attr = list(crel.index[:7])\n",
    "predicters = tree[top_7_attr]\n",
    "targets = tree['TREG1']\n",
    "pred_train, pred_test, target_train, target_test = train_test_split(predicters, targets, test_size = 0.4 )\n",
    "# fit model in decision tree\n",
    "classifier = DecisionTreeClassifier()\n",
    "classifier  = classifier.fit(pred_train, target_train)\n",
    "# check the training error\n",
    "print (sklearn.metrics.accuracy_score(target_train, classifier.predict(pred_train)))\n",
    "# prediction for test set\n",
    "predictions = classifier.predict(pred_test)\n",
    "print (sklearn.metrics.accuracy_score(target_test, predictions))\n",
    "sklearn.metrics.confusion_matrix(target_test, predictions)"
   ]
  },
  {
   "cell_type": "code",
   "execution_count": 8,
   "metadata": {
    "collapsed": false
   },
   "outputs": [
    {
     "name": "stdout",
     "output_type": "stream",
     "text": [
      "0.84262295082\n",
      "0.824043715847\n"
     ]
    },
    {
     "data": {
      "text/plain": [
       "array([[1444,   43],\n",
       "       [ 279,   64]])"
      ]
     },
     "execution_count": 8,
     "metadata": {},
     "output_type": "execute_result"
    }
   ],
   "source": [
    "#fit model using top 3 correlated attributes\n",
    "top_3_attr = list(crel.index[:3])\n",
    "predicters = tree[top_3_attr]\n",
    "targets = tree['TREG1']\n",
    "pred_train, pred_test, target_train, target_test = train_test_split(predicters, targets, test_size = 0.4 )\n",
    "# fit model in decision tree\n",
    "classifier = DecisionTreeClassifier()\n",
    "classifier  = classifier.fit(pred_train, target_train)\n",
    "# check the training error\n",
    "print (sklearn.metrics.accuracy_score(target_train, classifier.predict(pred_train)))\n",
    "# prediction for test set\n",
    "predictions = classifier.predict(pred_test)\n",
    "print (sklearn.metrics.accuracy_score(target_test, predictions))\n",
    "sklearn.metrics.confusion_matrix(target_test, predictions)"
   ]
  },
  {
   "cell_type": "code",
   "execution_count": 9,
   "metadata": {
    "collapsed": false
   },
   "outputs": [
    {
     "ename": "InvocationException",
     "evalue": "GraphViz's executables not found",
     "output_type": "error",
     "traceback": [
      "\u001b[0;31m---------------------------------------------------------------------------\u001b[0m",
      "\u001b[0;31mInvocationException\u001b[0m                       Traceback (most recent call last)",
      "\u001b[0;32m<ipython-input-9-a72c0c01d2b0>\u001b[0m in \u001b[0;36m<module>\u001b[0;34m()\u001b[0m\n\u001b[1;32m      9\u001b[0m \u001b[1;32mimport\u001b[0m \u001b[0mpydotplus\u001b[0m\u001b[1;33m\u001b[0m\u001b[0m\n\u001b[1;32m     10\u001b[0m \u001b[0mgraph\u001b[0m\u001b[1;33m=\u001b[0m\u001b[0mpydotplus\u001b[0m\u001b[1;33m.\u001b[0m\u001b[0mgraph_from_dot_data\u001b[0m\u001b[1;33m(\u001b[0m\u001b[0mout\u001b[0m\u001b[1;33m.\u001b[0m\u001b[0mgetvalue\u001b[0m\u001b[1;33m(\u001b[0m\u001b[1;33m)\u001b[0m\u001b[1;33m)\u001b[0m\u001b[1;33m\u001b[0m\u001b[0m\n\u001b[0;32m---> 11\u001b[0;31m \u001b[0mImage\u001b[0m\u001b[1;33m(\u001b[0m\u001b[0mgraph\u001b[0m\u001b[1;33m.\u001b[0m\u001b[0mcreate_png\u001b[0m\u001b[1;33m(\u001b[0m\u001b[1;33m)\u001b[0m\u001b[1;33m)\u001b[0m\u001b[1;33m\u001b[0m\u001b[0m\n\u001b[0m",
      "\u001b[0;32mC:\\Users\\kunal\\Anaconda3\\lib\\site-packages\\pydotplus\\graphviz.py\u001b[0m in \u001b[0;36m<lambda>\u001b[0;34m(f, prog)\u001b[0m\n\u001b[1;32m   1795\u001b[0m             self.__setattr__(\n\u001b[1;32m   1796\u001b[0m                 \u001b[1;34m'create_'\u001b[0m \u001b[1;33m+\u001b[0m \u001b[0mfrmt\u001b[0m\u001b[1;33m,\u001b[0m\u001b[1;33m\u001b[0m\u001b[0m\n\u001b[0;32m-> 1797\u001b[0;31m                 \u001b[1;32mlambda\u001b[0m \u001b[0mf\u001b[0m\u001b[1;33m=\u001b[0m\u001b[0mfrmt\u001b[0m\u001b[1;33m,\u001b[0m \u001b[0mprog\u001b[0m\u001b[1;33m=\u001b[0m\u001b[0mself\u001b[0m\u001b[1;33m.\u001b[0m\u001b[0mprog\u001b[0m\u001b[1;33m:\u001b[0m \u001b[0mself\u001b[0m\u001b[1;33m.\u001b[0m\u001b[0mcreate\u001b[0m\u001b[1;33m(\u001b[0m\u001b[0mformat\u001b[0m\u001b[1;33m=\u001b[0m\u001b[0mf\u001b[0m\u001b[1;33m,\u001b[0m \u001b[0mprog\u001b[0m\u001b[1;33m=\u001b[0m\u001b[0mprog\u001b[0m\u001b[1;33m)\u001b[0m\u001b[1;33m\u001b[0m\u001b[0m\n\u001b[0m\u001b[1;32m   1798\u001b[0m             )\n\u001b[1;32m   1799\u001b[0m             \u001b[0mf\u001b[0m \u001b[1;33m=\u001b[0m \u001b[0mself\u001b[0m\u001b[1;33m.\u001b[0m\u001b[0m__dict__\u001b[0m\u001b[1;33m[\u001b[0m\u001b[1;34m'create_'\u001b[0m \u001b[1;33m+\u001b[0m \u001b[0mfrmt\u001b[0m\u001b[1;33m]\u001b[0m\u001b[1;33m\u001b[0m\u001b[0m\n",
      "\u001b[0;32mC:\\Users\\kunal\\Anaconda3\\lib\\site-packages\\pydotplus\\graphviz.py\u001b[0m in \u001b[0;36mcreate\u001b[0;34m(self, prog, format)\u001b[0m\n\u001b[1;32m   1958\u001b[0m             \u001b[1;32mif\u001b[0m \u001b[0mself\u001b[0m\u001b[1;33m.\u001b[0m\u001b[0mprogs\u001b[0m \u001b[1;32mis\u001b[0m \u001b[1;32mNone\u001b[0m\u001b[1;33m:\u001b[0m\u001b[1;33m\u001b[0m\u001b[0m\n\u001b[1;32m   1959\u001b[0m                 raise InvocationException(\n\u001b[0;32m-> 1960\u001b[0;31m                     'GraphViz\\'s executables not found')\n\u001b[0m\u001b[1;32m   1961\u001b[0m \u001b[1;33m\u001b[0m\u001b[0m\n\u001b[1;32m   1962\u001b[0m         \u001b[1;32mif\u001b[0m \u001b[0mprog\u001b[0m \u001b[1;32mnot\u001b[0m \u001b[1;32min\u001b[0m \u001b[0mself\u001b[0m\u001b[1;33m.\u001b[0m\u001b[0mprogs\u001b[0m\u001b[1;33m:\u001b[0m\u001b[1;33m\u001b[0m\u001b[0m\n",
      "\u001b[0;31mInvocationException\u001b[0m: GraphViz's executables not found"
     ]
    }
   ],
   "source": [
    "#Displaying the decision tree\n",
    "from sklearn import tree\n",
    "#from StringIO import StringIO\n",
    "from io import StringIO\n",
    "#from StringIO import StringIO \n",
    "from IPython.display import Image\n",
    "out = StringIO()\n",
    "tree.export_graphviz(classifier, out_file=out)\n",
    "import pydotplus\n",
    "graph=pydotplus.graph_from_dot_data(out.getvalue())\n",
    "Image(graph.create_png())"
   ]
  },
  {
   "cell_type": "code",
   "execution_count": null,
   "metadata": {
    "collapsed": true
   },
   "outputs": [],
   "source": []
  }
 ],
 "metadata": {
  "anaconda-cloud": {},
  "kernelspec": {
   "display_name": "Python [default]",
   "language": "python",
   "name": "python3"
  },
  "language_info": {
   "codemirror_mode": {
    "name": "ipython",
    "version": 3
   },
   "file_extension": ".py",
   "mimetype": "text/x-python",
   "name": "python",
   "nbconvert_exporter": "python",
   "pygments_lexer": "ipython3",
   "version": "3.5.2"
  }
 },
 "nbformat": 4,
 "nbformat_minor": 1
}
