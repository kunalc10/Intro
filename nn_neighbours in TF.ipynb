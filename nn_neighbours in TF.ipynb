{
 "cells": [
  {
   "cell_type": "code",
   "execution_count": 1,
   "metadata": {
    "collapsed": true
   },
   "outputs": [],
   "source": [
    "import numpy as np\n",
    "import tensorflow as tf"
   ]
  },
  {
   "cell_type": "code",
   "execution_count": 2,
   "metadata": {
    "collapsed": false
   },
   "outputs": [
    {
     "name": "stdout",
     "output_type": "stream",
     "text": [
      "Successfully downloaded train-images-idx3-ubyte.gz 9912422 bytes.\n",
      "Extracting MNIST_data/train-images-idx3-ubyte.gz\n",
      "Successfully downloaded train-labels-idx1-ubyte.gz 28881 bytes.\n",
      "Extracting MNIST_data/train-labels-idx1-ubyte.gz\n",
      "Successfully downloaded t10k-images-idx3-ubyte.gz 1648877 bytes.\n",
      "Extracting MNIST_data/t10k-images-idx3-ubyte.gz\n",
      "Successfully downloaded t10k-labels-idx1-ubyte.gz 4542 bytes.\n",
      "Extracting MNIST_data/t10k-labels-idx1-ubyte.gz\n"
     ]
    }
   ],
   "source": [
    "from tensorflow.examples.tutorials.mnist import input_data\n",
    "mnist = input_data.read_data_sets('MNIST_data/', one_hot = True)"
   ]
  },
  {
   "cell_type": "code",
   "execution_count": 3,
   "metadata": {
    "collapsed": false
   },
   "outputs": [
    {
     "data": {
      "text/plain": [
       "tensorflow.contrib.learn.python.learn.datasets.base.Datasets"
      ]
     },
     "execution_count": 3,
     "metadata": {},
     "output_type": "execute_result"
    }
   ],
   "source": [
    "type(mnist)"
   ]
  },
  {
   "cell_type": "code",
   "execution_count": 28,
   "metadata": {
    "collapsed": false
   },
   "outputs": [],
   "source": [
    "Xtr, Yrt = mnist.train.next_batch(5000)\n",
    "Xte, Yte = mnist.test.next_batch(200)\n",
    "\n",
    "xtr = tf.placeholder(tf.float32, shape = [None, 784])\n",
    "xte = tf.placeholder(tf.float32, shape = [784])\n",
    "# compute L1 distance\n",
    "distance = tf.reduce_sum(tf.abs(tf.add(xtr, tf.negative(xte))), reduction_indices = 1)\n",
    "pred = tf.arg_min(distance, 0)\n",
    "acc = 0\n",
    "init = tf.global_variables_initializer()\n"
   ]
  },
  {
   "cell_type": "code",
   "execution_count": 31,
   "metadata": {
    "collapsed": false
   },
   "outputs": [
    {
     "name": "stdout",
     "output_type": "stream",
     "text": [
      "test  0 prediction  3 True class :  3\n",
      "test  1 prediction  1 True class :  1\n",
      "test  2 prediction  2 True class :  2\n",
      "test  3 prediction  7 True class :  7\n",
      "test  4 prediction  5 True class :  5\n",
      "test  5 prediction  3 True class :  3\n",
      "test  6 prediction  0 True class :  0\n",
      "test  7 prediction  0 True class :  0\n",
      "test  8 prediction  3 True class :  3\n",
      "test  9 prediction  0 True class :  0\n",
      "test  10 prediction  1 True class :  1\n",
      "test  11 prediction  3 True class :  3\n",
      "test  12 prediction  2 True class :  2\n",
      "test  13 prediction  8 True class :  8\n",
      "test  14 prediction  1 True class :  1\n",
      "test  15 prediction  3 True class :  3\n",
      "test  16 prediction  1 True class :  1\n",
      "test  17 prediction  1 True class :  4\n",
      "test  18 prediction  9 True class :  9\n",
      "test  19 prediction  0 True class :  0\n",
      "test  20 prediction  5 True class :  5\n",
      "test  21 prediction  1 True class :  1\n",
      "test  22 prediction  4 True class :  4\n",
      "test  23 prediction  0 True class :  0\n",
      "test  24 prediction  2 True class :  2\n",
      "test  25 prediction  0 True class :  0\n",
      "test  26 prediction  7 True class :  7\n",
      "test  27 prediction  8 True class :  8\n",
      "test  28 prediction  1 True class :  1\n",
      "test  29 prediction  7 True class :  7\n",
      "test  30 prediction  3 True class :  3\n",
      "test  31 prediction  7 True class :  7\n",
      "test  32 prediction  7 True class :  2\n",
      "test  33 prediction  3 True class :  3\n",
      "test  34 prediction  4 True class :  4\n",
      "test  35 prediction  9 True class :  9\n",
      "test  36 prediction  5 True class :  5\n",
      "test  37 prediction  5 True class :  5\n",
      "test  38 prediction  2 True class :  2\n",
      "test  39 prediction  8 True class :  8\n",
      "test  40 prediction  8 True class :  8\n",
      "test  41 prediction  1 True class :  1\n",
      "test  42 prediction  9 True class :  9\n",
      "test  43 prediction  6 True class :  6\n",
      "test  44 prediction  3 True class :  3\n",
      "test  45 prediction  1 True class :  1\n",
      "test  46 prediction  5 True class :  5\n",
      "test  47 prediction  9 True class :  9\n",
      "test  48 prediction  1 True class :  1\n",
      "test  49 prediction  4 True class :  4\n",
      "test  50 prediction  9 True class :  9\n",
      "test  51 prediction  9 True class :  4\n",
      "test  52 prediction  4 True class :  4\n",
      "test  53 prediction  4 True class :  4\n",
      "test  54 prediction  8 True class :  8\n",
      "test  55 prediction  5 True class :  5\n",
      "test  56 prediction  9 True class :  9\n",
      "test  57 prediction  4 True class :  4\n",
      "test  58 prediction  3 True class :  3\n",
      "test  59 prediction  3 True class :  3\n",
      "test  60 prediction  6 True class :  5\n",
      "test  61 prediction  3 True class :  3\n",
      "test  62 prediction  2 True class :  2\n",
      "test  63 prediction  4 True class :  4\n",
      "test  64 prediction  1 True class :  1\n",
      "test  65 prediction  9 True class :  9\n",
      "test  66 prediction  9 True class :  9\n",
      "test  67 prediction  8 True class :  8\n",
      "test  68 prediction  4 True class :  4\n",
      "test  69 prediction  9 True class :  9\n",
      "test  70 prediction  3 True class :  3\n",
      "test  71 prediction  6 True class :  6\n",
      "test  72 prediction  7 True class :  7\n",
      "test  73 prediction  6 True class :  6\n",
      "test  74 prediction  6 True class :  6\n",
      "test  75 prediction  0 True class :  0\n",
      "test  76 prediction  9 True class :  9\n",
      "test  77 prediction  2 True class :  2\n",
      "test  78 prediction  0 True class :  0\n",
      "test  79 prediction  4 True class :  4\n",
      "test  80 prediction  3 True class :  3\n",
      "test  81 prediction  4 True class :  4\n",
      "test  82 prediction  7 True class :  7\n",
      "test  83 prediction  6 True class :  6\n",
      "test  84 prediction  2 True class :  2\n",
      "test  85 prediction  2 True class :  2\n",
      "test  86 prediction  9 True class :  9\n",
      "test  87 prediction  7 True class :  7\n",
      "test  88 prediction  7 True class :  7\n",
      "test  89 prediction  3 True class :  3\n",
      "test  90 prediction  9 True class :  9\n",
      "test  91 prediction  0 True class :  0\n",
      "test  92 prediction  2 True class :  2\n",
      "test  93 prediction  0 True class :  0\n",
      "test  94 prediction  1 True class :  1\n",
      "test  95 prediction  9 True class :  9\n",
      "test  96 prediction  1 True class :  1\n",
      "test  97 prediction  4 True class :  4\n",
      "test  98 prediction  9 True class :  4\n",
      "test  99 prediction  0 True class :  0\n",
      "test  100 prediction  5 True class :  8\n",
      "test  101 prediction  8 True class :  8\n",
      "test  102 prediction  0 True class :  8\n",
      "test  103 prediction  2 True class :  2\n",
      "test  104 prediction  2 True class :  2\n",
      "test  105 prediction  7 True class :  7\n",
      "test  106 prediction  1 True class :  1\n",
      "test  107 prediction  0 True class :  0\n",
      "test  108 prediction  2 True class :  2\n",
      "test  109 prediction  4 True class :  4\n",
      "test  110 prediction  1 True class :  1\n",
      "test  111 prediction  6 True class :  6\n",
      "test  112 prediction  2 True class :  2\n",
      "test  113 prediction  1 True class :  1\n",
      "test  114 prediction  0 True class :  0\n",
      "test  115 prediction  6 True class :  6\n",
      "test  116 prediction  0 True class :  0\n",
      "test  117 prediction  3 True class :  3\n",
      "test  118 prediction  8 True class :  8\n",
      "test  119 prediction  8 True class :  8\n",
      "test  120 prediction  7 True class :  7\n",
      "test  121 prediction  4 True class :  4\n",
      "test  122 prediction  3 True class :  3\n",
      "test  123 prediction  4 True class :  4\n",
      "test  124 prediction  8 True class :  8\n",
      "test  125 prediction  6 True class :  6\n",
      "test  126 prediction  9 True class :  9\n",
      "test  127 prediction  1 True class :  4\n",
      "test  128 prediction  4 True class :  4\n",
      "test  129 prediction  7 True class :  7\n",
      "test  130 prediction  1 True class :  1\n",
      "test  131 prediction  5 True class :  5\n",
      "test  132 prediction  4 True class :  4\n",
      "test  133 prediction  1 True class :  1\n",
      "test  134 prediction  5 True class :  5\n",
      "test  135 prediction  8 True class :  8\n",
      "test  136 prediction  8 True class :  8\n",
      "test  137 prediction  6 True class :  6\n",
      "test  138 prediction  1 True class :  1\n",
      "test  139 prediction  6 True class :  6\n",
      "test  140 prediction  4 True class :  4\n",
      "test  141 prediction  4 True class :  4\n",
      "test  142 prediction  2 True class :  2\n",
      "test  143 prediction  1 True class :  1\n",
      "test  144 prediction  0 True class :  0\n",
      "test  145 prediction  5 True class :  5\n",
      "test  146 prediction  3 True class :  3\n",
      "test  147 prediction  9 True class :  9\n",
      "test  148 prediction  6 True class :  6\n",
      "test  149 prediction  7 True class :  7\n",
      "test  150 prediction  3 True class :  3\n",
      "test  151 prediction  7 True class :  7\n",
      "test  152 prediction  2 True class :  2\n",
      "test  153 prediction  5 True class :  5\n",
      "test  154 prediction  9 True class :  9\n",
      "test  155 prediction  1 True class :  7\n",
      "test  156 prediction  1 True class :  1\n",
      "test  157 prediction  2 True class :  2\n",
      "test  158 prediction  9 True class :  9\n",
      "test  159 prediction  1 True class :  1\n",
      "test  160 prediction  7 True class :  3\n",
      "test  161 prediction  7 True class :  7\n",
      "test  162 prediction  1 True class :  1\n",
      "test  163 prediction  1 True class :  1\n",
      "test  164 prediction  8 True class :  8\n",
      "test  165 prediction  0 True class :  0\n",
      "test  166 prediction  7 True class :  7\n",
      "test  167 prediction  2 True class :  2\n",
      "test  168 prediction  0 True class :  0\n",
      "test  169 prediction  7 True class :  7\n",
      "test  170 prediction  9 True class :  9\n",
      "test  171 prediction  7 True class :  7\n",
      "test  172 prediction  9 True class :  4\n",
      "test  173 prediction  3 True class :  3\n",
      "test  174 prediction  6 True class :  6\n",
      "test  175 prediction  7 True class :  7\n",
      "test  176 prediction  0 True class :  0\n",
      "test  177 prediction  3 True class :  3\n",
      "test  178 prediction  9 True class :  9\n",
      "test  179 prediction  5 True class :  5\n",
      "test  180 prediction  9 True class :  7\n",
      "test  181 prediction  1 True class :  1\n",
      "test  182 prediction  1 True class :  1\n",
      "test  183 prediction  2 True class :  2\n",
      "test  184 prediction  8 True class :  8\n",
      "test  185 prediction  5 True class :  5\n",
      "test  186 prediction  3 True class :  3\n",
      "test  187 prediction  1 True class :  1\n",
      "test  188 prediction  2 True class :  2\n",
      "test  189 prediction  6 True class :  6\n",
      "test  190 prediction  0 True class :  0\n",
      "test  191 prediction  4 True class :  4\n",
      "test  192 prediction  1 True class :  1\n",
      "test  193 prediction  1 True class :  1\n",
      "test  194 prediction  2 True class :  2\n",
      "test  195 prediction  5 True class :  5\n",
      "test  196 prediction  2 True class :  2\n",
      "test  197 prediction  3 True class :  3\n",
      "test  198 prediction  4 True class :  4\n",
      "test  199 prediction  4 True class :  4\n",
      "done !\n",
      "accuracy =  0.9400000000000007\n"
     ]
    }
   ],
   "source": [
    "with tf.Session() as sess:\n",
    "    sess.run(init)\n",
    "    \n",
    "    # looping\n",
    "    for i in range(len(Xte)):\n",
    "        nn_index = sess.run(pred, feed_dict = {xtr : Xtr, xte : Xte[i, :]})\n",
    "        print ('test ', i, 'prediction ', np.argmax(Yrt[nn_index]), \"True class : \", np.argmax(Yte[i]) )\n",
    "        \n",
    "        # calculate accuracy\n",
    "        if np.argmax(Yrt[nn_index]) == np.argmax(Yte[i]):\n",
    "            acc = acc + 1./len(Xte)\n",
    "    print (\"done !\")\n",
    "    print (\"accuracy = \" ,acc)\n",
    "    "
   ]
  },
  {
   "cell_type": "code",
   "execution_count": 16,
   "metadata": {
    "collapsed": true
   },
   "outputs": [],
   "source": [
    "np.argmax?"
   ]
  },
  {
   "cell_type": "code",
   "execution_count": null,
   "metadata": {
    "collapsed": true
   },
   "outputs": [],
   "source": []
  }
 ],
 "metadata": {
  "anaconda-cloud": {},
  "kernelspec": {
   "display_name": "Python [default]",
   "language": "python",
   "name": "python3"
  },
  "language_info": {
   "codemirror_mode": {
    "name": "ipython",
    "version": 3
   },
   "file_extension": ".py",
   "mimetype": "text/x-python",
   "name": "python",
   "nbconvert_exporter": "python",
   "pygments_lexer": "ipython3",
   "version": "3.5.2"
  }
 },
 "nbformat": 4,
 "nbformat_minor": 1
}
