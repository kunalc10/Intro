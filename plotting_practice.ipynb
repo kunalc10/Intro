{
 "cells": [
  {
   "cell_type": "code",
   "execution_count": 49,
   "metadata": {
    "collapsed": false
   },
   "outputs": [
    {
     "name": "stdout",
     "output_type": "stream",
     "text": [
      "Populating the interactive namespace from numpy and matplotlib\n"
     ]
    }
   ],
   "source": [
    "%matplotlib notebook\n",
    "% pylab inline\n"
   ]
  },
  {
   "cell_type": "code",
   "execution_count": 2,
   "metadata": {
    "collapsed": false
   },
   "outputs": [],
   "source": [
    "import matplotlib.pyplot as plt\n",
    "import numpy as np\n",
    "import pandas as pd"
   ]
  },
  {
   "cell_type": "code",
   "execution_count": null,
   "metadata": {
    "collapsed": false
   },
   "outputs": [],
   "source": [
    "fig = plt.figure()"
   ]
  },
  {
   "cell_type": "code",
   "execution_count": null,
   "metadata": {
    "collapsed": false
   },
   "outputs": [],
   "source": [
    "a = np.linspace(0,5,10)"
   ]
  },
  {
   "cell_type": "code",
   "execution_count": null,
   "metadata": {
    "collapsed": false
   },
   "outputs": [],
   "source": [
    "b = np.sin(a)\n",
    "plt.plot(a,b)\n",
    "\n"
   ]
  },
  {
   "cell_type": "code",
   "execution_count": null,
   "metadata": {
    "collapsed": false
   },
   "outputs": [],
   "source": [
    "%gui"
   ]
  },
  {
   "cell_type": "code",
   "execution_count": null,
   "metadata": {
    "collapsed": false
   },
   "outputs": [],
   "source": [
    "fig = plt.figure()\n",
    "ax1  = fig.add_subplot(2,2,1)\n",
    "ax1  = fig.add_subplot(2,2,2)\n",
    "ax1  = fig.add_subplot(2,2,3)\n",
    "plt.plot(np.random.randn(50).cumsum(), 'k--')\n",
    "fig,axes = plt.subplots(2,3)\n",
    "subplots_adjust(left = None, right = None, bottom = None, top = None, wspace = None, hspace = None)\n",
    "fig, axes = plt.subplots(2,2, sharex = True, sharey = True)\n",
    "for i in range(2):\n",
    "    for j in range(2):\n",
    "        axes[i,j].hist(randn(500), bins = 50, color = 'k', alpha = 0.5)\n",
    "plt.subplots_adjust(wspace = 0, hspace = 0)"
   ]
  },
  {
   "cell_type": "code",
   "execution_count": null,
   "metadata": {
    "collapsed": false
   },
   "outputs": [],
   "source": [
    "plt.plot(np.random.randn(50).cumsum(), 'k--')"
   ]
  },
  {
   "cell_type": "code",
   "execution_count": null,
   "metadata": {
    "collapsed": false
   },
   "outputs": [],
   "source": [
    "data = randn(30).cumsum()\n",
    "plt.plot(data, 'k--',label = 'Default')"
   ]
  },
  {
   "cell_type": "code",
   "execution_count": null,
   "metadata": {
    "collapsed": false
   },
   "outputs": [],
   "source": [
    "plot(np.arange(10))"
   ]
  },
  {
   "cell_type": "code",
   "execution_count": null,
   "metadata": {
    "collapsed": false
   },
   "outputs": [],
   "source": [
    "fig  = plt.figure()\n",
    "ax1 = fig.add_subplot(2,2,1)\n",
    "ax2 = fig.add_subplot(2,2,2)\n",
    "ax3 = fig.add_subplot(2,2,3)\n",
    "plt.plot([1.5, 2.3, 4.7, 5])\n",
    "ax2.plot(np.random.randn(50).cumsum(), 'k--')\n",
    "_=ax1.hist(np.random.randn(1000), bins = 100, color = 'r', alpha = 0.3)"
   ]
  },
  {
   "cell_type": "code",
   "execution_count": null,
   "metadata": {
    "collapsed": false
   },
   "outputs": [],
   "source": [
    "fig, axes = plt.subplots(2)\n",
    "axes[1].hist(np.random.randn(50), bins = 20, color = 'b', alpha = 0.3)\n",
    "#plt.subplots_adjust(left = None, right = None, top = None, bottom = None, wspace = None, hspace = None)"
   ]
  },
  {
   "cell_type": "code",
   "execution_count": null,
   "metadata": {
    "collapsed": false
   },
   "outputs": [],
   "source": [
    "fig,axes = plt.subplots(2,2,sharex  = True, sharey = True)\n",
    "for i in range(2):\n",
    "    for j in range(2):\n",
    "        axes[i,j].hist(np.random.randn(100), bins = 10, alpha = 0.5, color = 'g')\n",
    "fig.subplots_adjust(wspace = 0, hspace = 0)\n"
   ]
  },
  {
   "cell_type": "code",
   "execution_count": null,
   "metadata": {
    "collapsed": false
   },
   "outputs": [],
   "source": [
    "plt.plot(np.random.rand(30), linestyle = '--', color = 'k', marker = 'o')"
   ]
  },
  {
   "cell_type": "code",
   "execution_count": null,
   "metadata": {
    "collapsed": false
   },
   "outputs": [],
   "source": [
    "fig = plt.figure()\n",
    "ax = fig.add_subplot(1,1,1)\n",
    "ax.plot(np.random.randn(1000).cumsum())\n",
    "ticks = ax.set_xticks([0,250, 500, 750, 1000])\n",
    "labels = ax.set_xticklabels(['first', 'second', 'third', 'fourth', 'fifth'], rotation =30, fontsize = 'small')\n",
    "ax.set_title('my first plot')\n",
    "ax.set_xlabel('position')"
   ]
  },
  {
   "cell_type": "code",
   "execution_count": null,
   "metadata": {
    "collapsed": false
   },
   "outputs": [],
   "source": [
    "fig = plt.figure()\n",
    "ax = fig.add_subplot(1,1,1)\n",
    "ax.plot(np.random.randn(100).cumsum(), color = 'k', label = 'one')\n",
    "ax.plot(np.random.randn(100).cumsum(), color = 'b', label = 'two')\n",
    "ax.plot(np.random.randn(100).cumsum(), color = 'g', label = 'three')\n",
    "ax.legend(loc = 'best')\n"
   ]
  },
  {
   "cell_type": "code",
   "execution_count": null,
   "metadata": {
    "collapsed": false
   },
   "outputs": [],
   "source": [
    "#plotting in pandas\n",
    "s = pd.Series(np.random.randn(10).cumsum(), index = np.arange(0,100, 10))\n",
    "s.plot()\n"
   ]
  },
  {
   "cell_type": "code",
   "execution_count": null,
   "metadata": {
    "collapsed": false
   },
   "outputs": [],
   "source": [
    "df = pd.DataFrame(np.random.randn(10,4), columns = list('ABCD'), index = np.arange(0,100,10))\n",
    "df.plot(subplots = True, sharex = True, sharey = True, figsize = (10,10))"
   ]
  },
  {
   "cell_type": "code",
   "execution_count": null,
   "metadata": {
    "collapsed": false
   },
   "outputs": [],
   "source": [
    "fig,axes = plt.subplots(2,1)\n",
    "s = pd.Series(np.random.randn(16), index = list('abcdefghijklmnop'))\n",
    "s.plot(kind = 'bar', ax = axes[0], color = 'r', alpha = 0.2)\n",
    "s.plot(kind = 'barh', ax = axes[1], color = 'r', alpha = 0.8)\n",
    "fig.subplots_adjust(top = 4, bottom = 2, right = 2, left = 1)"
   ]
  },
  {
   "cell_type": "code",
   "execution_count": null,
   "metadata": {
    "collapsed": false
   },
   "outputs": [],
   "source": [
    "df = pd.DataFrame(np.random.rand(6,4), index = list('abcdef'), columns = list('xyzw'))\n",
    "df.plot(kind = 'bar')"
   ]
  },
  {
   "cell_type": "code",
   "execution_count": null,
   "metadata": {
    "collapsed": false
   },
   "outputs": [],
   "source": [
    "tips = pd.read_csv('F:\\\\machine learning\\\\wes mckinney\\\\pydata-book-master (1)\\\\pydata-book-master\\\\ch08\\\\tips.csv')\n",
    "tips.sample(5)\n",
    "tips['tip_pct'] = tips['tip'].div(tips['total_bill'])\n",
    "fig,axes = plt.subplots(2,1)\n",
    "tips['tip_pct'].hist(bins = 50, ax = axes[0])\n",
    "tips['tip_pct'].plot(kind = 'kde', ax = axes[1])"
   ]
  },
  {
   "cell_type": "code",
   "execution_count": null,
   "metadata": {
    "collapsed": false
   },
   "outputs": [],
   "source": [
    "comp1 = np.random.normal(0,1,size = 200)\n",
    "comp2 = np.random.normal(10,2,size = 200)\n",
    "S = pd.Series(np.concatenate([comp1,comp2]))\n",
    "S.hist(bins = 100,normed = True)\n",
    "S.plot(kind = 'kde')\n"
   ]
  },
  {
   "cell_type": "code",
   "execution_count": null,
   "metadata": {
    "collapsed": false
   },
   "outputs": [],
   "source": [
    "macro = pd.read_csv('F:\\\\machine learning\\\\wes mckinney\\\\pydata-book-master (1)\\\\pydata-book-master\\\\ch08\\\\macrodata.csv')\n",
    "macro.head()"
   ]
  },
  {
   "cell_type": "code",
   "execution_count": null,
   "metadata": {
    "collapsed": false
   },
   "outputs": [],
   "source": [
    "data = macro[['cpi', 'm1', 'tbilrate', 'unemp']]\n",
    "data = np.log(data)\n",
    "data = data.diff().dropna()\n",
    "x = plt.scatter(data['m1'], data['unemp'])\n",
    "#pd.scatter_matrix(data, diagonal = 'kde')\n",
    "plt.title('sdsds')"
   ]
  },
  {
   "cell_type": "code",
   "execution_count": 6,
   "metadata": {
    "collapsed": false
   },
   "outputs": [
    {
     "data": {
      "text/html": [
       "<div>\n",
       "<table border=\"1\" class=\"dataframe\">\n",
       "  <thead>\n",
       "    <tr style=\"text-align: right;\">\n",
       "      <th></th>\n",
       "      <th>No of effects</th>\n",
       "      <th>Steam economy</th>\n",
       "      <th>Area of effect</th>\n",
       "      <th>amount of steam</th>\n",
       "    </tr>\n",
       "  </thead>\n",
       "  <tbody>\n",
       "    <tr>\n",
       "      <th>0</th>\n",
       "      <td>2</td>\n",
       "      <td>1.695225</td>\n",
       "      <td>580.564617</td>\n",
       "      <td>26332.795153</td>\n",
       "    </tr>\n",
       "    <tr>\n",
       "      <th>1</th>\n",
       "      <td>3</td>\n",
       "      <td>2.340778</td>\n",
       "      <td>627.558213</td>\n",
       "      <td>19070.585095</td>\n",
       "    </tr>\n",
       "    <tr>\n",
       "      <th>2</th>\n",
       "      <td>4</td>\n",
       "      <td>2.889982</td>\n",
       "      <td>657.169451</td>\n",
       "      <td>15446.461486</td>\n",
       "    </tr>\n",
       "    <tr>\n",
       "      <th>3</th>\n",
       "      <td>5</td>\n",
       "      <td>3.361515</td>\n",
       "      <td>679.879300</td>\n",
       "      <td>13279.727139</td>\n",
       "    </tr>\n",
       "    <tr>\n",
       "      <th>4</th>\n",
       "      <td>6</td>\n",
       "      <td>3.769672</td>\n",
       "      <td>699.272693</td>\n",
       "      <td>11841.878589</td>\n",
       "    </tr>\n",
       "  </tbody>\n",
       "</table>\n",
       "</div>"
      ],
      "text/plain": [
       "   No of effects  Steam economy  Area of effect  amount of steam\n",
       "0              2       1.695225      580.564617     26332.795153\n",
       "1              3       2.340778      627.558213     19070.585095\n",
       "2              4       2.889982      657.169451     15446.461486\n",
       "3              5       3.361515      679.879300     13279.727139\n",
       "4              6       3.769672      699.272693     11841.878589"
      ]
     },
     "execution_count": 6,
     "metadata": {},
     "output_type": "execute_result"
    }
   ],
   "source": [
    "p = pd.read_excel('C:\\\\Users\\\\kunal\\\\Downloads\\\\p_data.xlsx')\n",
    "p.head()\n",
    "p.dropna(inplace = True)\n",
    "p.head()\n",
    "n = pd.read_excel('C:\\\\Users\\\\kunal\\\\Downloads\\\\n_data.xlsx')\n",
    "n.dropna(inplace = True)\n",
    "n.head()"
   ]
  },
  {
   "cell_type": "code",
   "execution_count": 54,
   "metadata": {
    "collapsed": false
   },
   "outputs": [
    {
     "data": {
      "text/plain": [
       "<matplotlib.legend.Legend at 0x1239ed30b00>"
      ]
     },
     "execution_count": 54,
     "metadata": {},
     "output_type": "execute_result"
    },
    {
     "data": {
      "image/png": "[encoded data removed]",
      "text/plain": [
       "<matplotlib.figure.Figure at 0x1239ed2ecf8>"
      ]
     },
     "metadata": {},
     "output_type": "display_data"
    }
   ],
   "source": [
    "plt.figure(figsize = (5,5))\n",
    "plt.bar(n['No of effects'].tolist(), n['Steam economy'], width = 0.35, color = 'blue', alpha = 0.25)\n",
    "b = (p['No of effect'].tolist())\n",
    "b1 = []\n",
    "for i in b:\n",
    "    b1.append(i+0.35)\n",
    "#b+0.5\n",
    "plt.bar(b1, p['Steam economy'].tolist(), width = 0.35, color = 'magenta', alpha = 0.3)\n",
    "plt.tick_params(axis = 'both', which = 'both',left = 'off',right = 'off', top = 'off', bottom = 'off')\n",
    "ax = plt.gca()\n",
    "ax.spines['top'].set_visible(False)\n",
    "ax.spines['right'].set_visible(False)\n",
    "ax.spines['bottom'].set_visible(False)\n",
    "ax.spines['left'].set_visible(False)\n",
    "plt.legend(['Without preheater', ' With preheater'], loc = 0, frameon = False)\n",
    "\n"
   ]
  },
  {
   "cell_type": "code",
   "execution_count": 25,
   "metadata": {
    "collapsed": false
   },
   "outputs": [
    {
     "data": {
      "text/plain": [
       "<Container object of 14 artists>"
      ]
     },
     "execution_count": 25,
     "metadata": {},
     "output_type": "execute_result"
    },
    {
     "data": {
      "image/png": "[encoded data removed]",
      "text/plain": [
       "<matplotlib.figure.Figure at 0x1239c99c588>"
      ]
     },
     "metadata": {},
     "output_type": "display_data"
    }
   ],
   "source": [
    "b = np.asarray(n['No of effects'].tolist())\n",
    "b+0.5\n",
    "plt.bar(b, n['Steam economy'].tolist(), width = 0.5, color = 'blue')\n"
   ]
  },
  {
   "cell_type": "code",
   "execution_count": 64,
   "metadata": {
    "collapsed": false
   },
   "outputs": [
    {
     "data": {
      "text/plain": [
       "<matplotlib.legend.Legend at 0x1239da28f28>"
      ]
     },
     "execution_count": 64,
     "metadata": {},
     "output_type": "execute_result"
    },
    {
     "data": {
      "image/png": "[encoded data removed]",
      "text/plain": [
       "<matplotlib.figure.Figure at 0x1239ff7c400>"
      ]
     },
     "metadata": {},
     "output_type": "display_data"
    }
   ],
   "source": [
    "plt.figure()\n",
    "plt.plot(p['No of effect'].tolist(), p['Steam economy'].tolist(),'b^-', alpha = 0.5)\n",
    "plt.plot(n['No of effects'].tolist(), n['Steam economy'].tolist(),'r^-', alpha = 0.75)\n",
    "plt.fill_between(p['No of effect'].tolist(), p['Steam economy'].tolist(), n['Steam economy'].tolist(), color = 'magenta', alpha = 0.2)\n",
    "plt.tick_params(axis = 'both', which = 'both',left = 'off',right = 'off', top = 'off', bottom = 'off')\n",
    "ax = plt.gca()\n",
    "ax.spines['top'].set_visible(False)\n",
    "ax.spines['right'].set_visible(False)\n",
    "ax.spines['bottom'].set_visible(False)\n",
    "ax.spines['left'].set_visible(False)\n",
    "plt.legend(['With preheater', ' Without preheater'], loc = 0, frameon = False)"
   ]
  },
  {
   "cell_type": "code",
   "execution_count": null,
   "metadata": {
    "collapsed": true
   },
   "outputs": [],
   "source": []
  }
 ],
 "metadata": {
  "anaconda-cloud": {},
  "kernelspec": {
   "display_name": "Python [default]",
   "language": "python",
   "name": "python3"
  },
  "language_info": {
   "codemirror_mode": {
    "name": "ipython",
    "version": 3
   },
   "file_extension": ".py",
   "mimetype": "text/x-python",
   "name": "python",
   "nbconvert_exporter": "python",
   "pygments_lexer": "ipython3",
   "version": "3.5.2"
  }
 },
 "nbformat": 4,
 "nbformat_minor": 1
}
