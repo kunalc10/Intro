{
 "cells": [
  {
   "cell_type": "code",
   "execution_count": 1,
   "metadata": {
    "collapsed": true
   },
   "outputs": [],
   "source": [
    "import pandas as pd\n",
    "import numpy as np\n",
    "import matplotlib.pyplot as plt\n",
    "% matplotlib inline"
   ]
  },
  {
   "cell_type": "code",
   "execution_count": 2,
   "metadata": {
    "collapsed": false
   },
   "outputs": [],
   "source": [
    "df  = pd.read_csv('F:\\\\machine learning\\\\urgent study\\\\iris.data.txt')\n"
   ]
  },
  {
   "cell_type": "code",
   "execution_count": 3,
   "metadata": {
    "collapsed": false
   },
   "outputs": [
    {
     "data": {
      "text/plain": [
       "array(['Iris-setosa', 'Iris-versicolor', 'Iris-virginica'], dtype=object)"
      ]
     },
     "execution_count": 3,
     "metadata": {},
     "output_type": "execute_result"
    }
   ],
   "source": [
    "df.columns = (['sepal length', 'sepal width', 'petal length', 'petal width', 'class_type'])\n",
    "df['class_type'].unique()"
   ]
  },
  {
   "cell_type": "code",
   "execution_count": 4,
   "metadata": {
    "collapsed": false
   },
   "outputs": [],
   "source": [
    "iris_data = df[(df.class_type.isin(['Iris-setosa','Iris-versicolor']))]\n"
   ]
  },
  {
   "cell_type": "code",
   "execution_count": 5,
   "metadata": {
    "collapsed": false
   },
   "outputs": [],
   "source": [
    "setosa = pd.DataFrame(df[['sepal length','petal length']].where(df['class_type'] == 'Iris-setosa').dropna())\n",
    "versicolor = pd.DataFrame(df[['sepal length','petal length']].where(df['class_type'] == 'Iris-versicolor').dropna())\n",
    "#setosa.head()\n",
    "#versicolor.head()\n"
   ]
  },
  {
   "cell_type": "code",
   "execution_count": 6,
   "metadata": {
    "collapsed": false
   },
   "outputs": [
    {
     "name": "stderr",
     "output_type": "stream",
     "text": [
      "C:\\Users\\kunal\\Anaconda3\\lib\\site-packages\\ipykernel\\__main__.py:7: SettingWithCopyWarning: \n",
      "A value is trying to be set on a copy of a slice from a DataFrame.\n",
      "Try using .loc[row_indexer,col_indexer] = value instead\n",
      "\n",
      "See the caveats in the documentation: http://pandas.pydata.org/pandas-docs/stable/indexing.html#indexing-view-versus-copy\n"
     ]
    }
   ],
   "source": [
    "def change(cell):\n",
    "    if (cell.class_type == 'Iris-setosa'):\n",
    "        k = 0\n",
    "    else :\n",
    "        k = 1\n",
    "    return k\n",
    "iris_data['target'] = iris_data.apply(change, axis = 1)\n",
    "#iris_data.target"
   ]
  },
  {
   "cell_type": "code",
   "execution_count": 7,
   "metadata": {
    "collapsed": false
   },
   "outputs": [
    {
     "data": {
      "text/plain": [
       "<matplotlib.collections.PathCollection at 0x28aec65b400>"
      ]
     },
     "execution_count": 7,
     "metadata": {},
     "output_type": "execute_result"
    },
    {
     "data": {
      "image/png": "[encoded data removed]",
      "text/plain": [
       "<matplotlib.figure.Figure at 0x28aec580c88>"
      ]
     },
     "metadata": {},
     "output_type": "display_data"
    }
   ],
   "source": [
    "plt.scatter(x = setosa['sepal length'], y = setosa['petal length'], marker = 'o')\n",
    "plt.scatter(x = versicolor['sepal length'], y = versicolor['petal length'], marker = 'x', color = 'r')"
   ]
  },
  {
   "cell_type": "code",
   "execution_count": 8,
   "metadata": {
    "collapsed": false
   },
   "outputs": [],
   "source": [
    "# we will train a perceptron to linearly classify\n",
    "class Perceptron:\n",
    "    # intialization\n",
    "    def __init__(self, epoch, learning_rate):\n",
    "        self.epoch = epoch\n",
    "        self.lr = learning_rate\n",
    "        self.w = np.random.normal(0.0, 1, 3)\n",
    "        pass\n",
    "    def train(self, input_data, target_data):\n",
    "        self.data = np.array(input_data)\n",
    "        self.bias_weight = np.zeros((len(self.data),1)) + 1\n",
    "        self.data_1 = np.append(self.data,self.bias_weight, axis = 1)\n",
    "        self.target = np.array(target_data)\n",
    "        for i in np.arange(self.epoch):\n",
    "            for i in np.arange(len(self.data_1[:,:])):\n",
    "                z = np.dot(self.data_1[i,:],self.w.T)\n",
    "            #  print(self.data_1[i,:])\n",
    "              #  print(self.target[i])              #  print(z)\n",
    "#  print(self.w)\n",
    "                if z >= 0:\n",
    "                    a = 1.0\n",
    "                    if a == self.target[i] :\n",
    "                        self.w = self.w\n",
    "                    else : \n",
    "                        self.w = self.w - self.lr*self.data_1[i,:]\n",
    "                    \n",
    "                    \n",
    "                else :\n",
    "                    a = 0.0\n",
    "                    if a == self.target[i] :\n",
    "                        self.w = self.w\n",
    "                    else :\n",
    "                        self.w = self.w + self.lr*self.data_1[i,:]\n",
    "                    \n",
    "                    \n",
    "        return self.w\n",
    "    pass\n",
    "\n",
    "                \n",
    "                \n",
    "        "
   ]
  },
  {
   "cell_type": "code",
   "execution_count": 9,
   "metadata": {
    "collapsed": false
   },
   "outputs": [],
   "source": [
    "iris_data = iris_data.sample(frac = 1)\n",
    "#iris_data.head()"
   ]
  },
  {
   "cell_type": "code",
   "execution_count": 10,
   "metadata": {
    "collapsed": false
   },
   "outputs": [
    {
     "data": {
      "text/plain": [
       "[<matplotlib.lines.Line2D at 0x28aeca55940>]"
      ]
     },
     "execution_count": 10,
     "metadata": {},
     "output_type": "execute_result"
    },
    {
     "data": {
      "image/png": "[encoded data removed]",
      "text/plain": [
       "<matplotlib.figure.Figure at 0x28aec6140b8>"
      ]
     },
     "metadata": {},
     "output_type": "display_data"
    }
   ],
   "source": [
    "PP = Perceptron(10,1)\n",
    "wts = PP.train(iris_data[['sepal length','petal length']],iris_data['target'])\n",
    "wts\n",
    "plt.figure(figsize = (6,6))\n",
    "slope = wts[0]/wts[1]*-1\n",
    "intercept = wts[2]/wts[1]*-1\n",
    "\n",
    "plt.scatter(x = setosa['sepal length'], y = setosa['petal length'], marker = 'o')\n",
    "plt.scatter(x = versicolor['sepal length'], y = versicolor['petal length'], marker = 'x', color = 'r')\n",
    "ax = plt.gca()\n",
    "\n",
    "x = np.arange(ax.get_xlim()[0],ax.get_xlim()[1],0.1)\n",
    "y = slope*x + intercept\n",
    "plt.plot(x,y,color = 'black')"
   ]
  },
  {
   "cell_type": "code",
   "execution_count": 11,
   "metadata": {
    "collapsed": false
   },
   "outputs": [
    {
     "data": {
      "text/plain": [
       "0     0\n",
       "1     0\n",
       "2     0\n",
       "3     0\n",
       "4     0\n",
       "5     0\n",
       "6     0\n",
       "7     0\n",
       "8     0\n",
       "9     0\n",
       "10    0\n",
       "11    0\n",
       "12    0\n",
       "13    0\n",
       "14    0\n",
       "15    0\n",
       "16    0\n",
       "17    0\n",
       "18    0\n",
       "19    0\n",
       "20    0\n",
       "21    0\n",
       "22    0\n",
       "23    0\n",
       "24    0\n",
       "25    0\n",
       "26    0\n",
       "27    0\n",
       "28    0\n",
       "29    0\n",
       "     ..\n",
       "69    0\n",
       "70    0\n",
       "71    0\n",
       "72    0\n",
       "73    0\n",
       "74    0\n",
       "75    0\n",
       "76    0\n",
       "77    0\n",
       "78    0\n",
       "79    0\n",
       "80    0\n",
       "81    0\n",
       "82    0\n",
       "83    0\n",
       "84    0\n",
       "85    0\n",
       "86    0\n",
       "87    0\n",
       "88    0\n",
       "89    0\n",
       "90    0\n",
       "91    0\n",
       "92    0\n",
       "93    0\n",
       "94    0\n",
       "95    0\n",
       "96    0\n",
       "97    0\n",
       "98    0\n",
       "dtype: int64"
      ]
     },
     "execution_count": 11,
     "metadata": {},
     "output_type": "execute_result"
    }
   ],
   "source": [
    "inp = np.array(iris_data[['sepal length', 'petal length']])\n",
    "bias_weight = np.zeros((len(inp),1)) + 1\n",
    "data_1 = np.append(inp,bias_weight, axis = 1)\n",
    "pred = np.dot(data_1,wts.T)\n",
    "def cl(cell):\n",
    "    if cell >= 0:\n",
    "        return 1\n",
    "    else:\n",
    "        return 0\n",
    "pred = pd.Series(pred)\n",
    "pred = pred.apply(cl)\n",
    "tar = np.array(iris_data['target'])\n",
    "acc = tar - pred\n",
    "acc\n"
   ]
  },
  {
   "cell_type": "code",
   "execution_count": 12,
   "metadata": {
    "collapsed": false
   },
   "outputs": [
    {
     "data": {
      "text/plain": [
       "[<matplotlib.lines.Line2D at 0x28aecad37f0>]"
      ]
     },
     "execution_count": 12,
     "metadata": {},
     "output_type": "execute_result"
    },
    {
     "data": {
      "image/png": "[encoded data removed]",
      "text/plain": [
       "<matplotlib.figure.Figure at 0x28aeca1f6d8>"
      ]
     },
     "metadata": {},
     "output_type": "display_data"
    }
   ],
   "source": [
    "plt.figure()\n",
    "slope = -wts[0]/wts[1]\n",
    "intercept = -wts[2]/wts[1]\n",
    "\n",
    "plt.scatter(x = setosa['sepal length'], y = setosa['petal length'], marker = 'o')\n",
    "plt.scatter(x = versicolor['sepal length'], y = versicolor['petal length'], marker = 'x', color = 'r')\n",
    "ax = plt.gca()\n",
    "\n",
    "x = np.arange(ax.get_xlim()[0],ax.get_xlim()[1],0.1)\n",
    "y = slope*x + intercept\n",
    "plt.plot(x,y,color = 'black')"
   ]
  },
  {
   "cell_type": "code",
   "execution_count": 13,
   "metadata": {
    "collapsed": false
   },
   "outputs": [
    {
     "ename": "IndexError",
     "evalue": "index 2 is out of bounds for axis 1 with size 2",
     "output_type": "error",
     "traceback": [
      "\u001b[0;31m---------------------------------------------------------------------------\u001b[0m",
      "\u001b[0;31mIndexError\u001b[0m                                Traceback (most recent call last)",
      "\u001b[0;32m<ipython-input-13-2cf2da4356b8>\u001b[0m in \u001b[0;36m<module>\u001b[0;34m()\u001b[0m\n\u001b[0;32m----> 1\u001b[0;31m \u001b[0mnp\u001b[0m\u001b[1;33m.\u001b[0m\u001b[0marray\u001b[0m\u001b[1;33m(\u001b[0m\u001b[0mversicolor\u001b[0m\u001b[1;33m[\u001b[0m\u001b[1;33m[\u001b[0m\u001b[1;34m'sepal length'\u001b[0m\u001b[1;33m,\u001b[0m\u001b[1;34m'petal length'\u001b[0m\u001b[1;33m]\u001b[0m\u001b[1;33m]\u001b[0m\u001b[1;33m)\u001b[0m\u001b[1;33m[\u001b[0m\u001b[1;33m:\u001b[0m\u001b[1;33m,\u001b[0m\u001b[1;36m2\u001b[0m\u001b[1;33m]\u001b[0m\u001b[1;33m\u001b[0m\u001b[0m\n\u001b[0m",
      "\u001b[0;31mIndexError\u001b[0m: index 2 is out of bounds for axis 1 with size 2"
     ]
    }
   ],
   "source": [
    "np.array(versicolor[['sepal length','petal length']])[:,2]"
   ]
  },
  {
   "cell_type": "code",
   "execution_count": null,
   "metadata": {
    "collapsed": true
   },
   "outputs": [],
   "source": []
  },
  {
   "cell_type": "code",
   "execution_count": null,
   "metadata": {
    "collapsed": false
   },
   "outputs": [],
   "source": [
    "x = np.array([[1,1],[2,2],[3,3]])\n",
    "b = np.zeros((len(x),1)) + 1\n",
    "c = np.append(x,b, axis = 1)\n",
    "c\n",
    "\n",
    "\n"
   ]
  },
  {
   "cell_type": "code",
   "execution_count": null,
   "metadata": {
    "collapsed": false
   },
   "outputs": [],
   "source": [
    "iris_data[['Iris-sertosa', 'Iris-versicolor']]"
   ]
  },
  {
   "cell_type": "code",
   "execution_count": null,
   "metadata": {
    "collapsed": false
   },
   "outputs": [],
   "source": [
    "np.arange(4) + 1"
   ]
  },
  {
   "cell_type": "code",
   "execution_count": null,
   "metadata": {
    "collapsed": false
   },
   "outputs": [],
   "source": [
    "`~matplotlib.markers`\n"
   ]
  },
  {
   "cell_type": "code",
   "execution_count": null,
   "metadata": {
    "collapsed": true
   },
   "outputs": [],
   "source": []
  }
 ],
 "metadata": {
  "anaconda-cloud": {},
  "kernelspec": {
   "display_name": "Python [default]",
   "language": "python",
   "name": "python3"
  },
  "language_info": {
   "codemirror_mode": {
    "name": "ipython",
    "version": 3
   },
   "file_extension": ".py",
   "mimetype": "text/x-python",
   "name": "python",
   "nbconvert_exporter": "python",
   "pygments_lexer": "ipython3",
   "version": "3.5.2"
  }
 },
 "nbformat": 4,
 "nbformat_minor": 1
}
