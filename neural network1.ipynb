{
 "cells": [
  {
   "cell_type": "code",
   "execution_count": 1,
   "metadata": {
    "collapsed": true
   },
   "outputs": [],
   "source": [
    "import numpy as np\n",
    "import matplotlib.pyplot as plt\n",
    "% matplotlib inline"
   ]
  },
  {
   "cell_type": "code",
   "execution_count": 2,
   "metadata": {
    "collapsed": false
   },
   "outputs": [
    {
     "name": "stdout",
     "output_type": "stream",
     "text": [
      "[[ 0.92861302  0.7095943   0.77206875]\n",
      " [ 0.63373795  0.56680544  0.91689594]\n",
      " [ 0.22930388  0.02962789  0.73542032]]\n",
      "[[ 0.51881335  0.53056554  0.087265  ]\n",
      " [ 0.55990834  0.60586042  0.15406738]\n",
      " [ 0.96857925  0.67394577  0.21170094]]\n",
      "[[ 0.48177683  0.37648628  0.06737458]\n",
      " [ 0.35483516  0.34340498  0.14126376]\n",
      " [ 0.22209898  0.01996759  0.15568917]]\n",
      "[[ 1.62689437  1.44293764  0.35380843]\n",
      " [ 1.53423718  1.29758263  0.3367371 ]\n",
      " [ 0.84786768  0.63524452  0.18026407]]\n"
     ]
    }
   ],
   "source": [
    "a = np.random.rand(3,3)\n",
    "a\n",
    "b = np.random.rand(3,3)\n",
    "print (a)\n",
    "print (b)\n",
    "print (a*b)\n",
    "print (np.dot(a,b))"
   ]
  },
  {
   "cell_type": "code",
   "execution_count": 3,
   "metadata": {
    "collapsed": false
   },
   "outputs": [
    {
     "data": {
      "text/plain": [
       "2"
      ]
     },
     "execution_count": 3,
     "metadata": {},
     "output_type": "execute_result"
    }
   ],
   "source": [
    "a = np.array([2, 3, 4])\n",
    "c = [2, 3, 4]\n",
    "b = np.array(c, ndmin = 2).T\n",
    "b.ndim"
   ]
  },
  {
   "cell_type": "code",
   "execution_count": 4,
   "metadata": {
    "collapsed": false
   },
   "outputs": [],
   "source": [
    "class NeuralNets:\n",
    "    \n",
    "    def __init__(self, inputlayers, hiddenlayers, outputlayers, learningrate):\n",
    "        self.inode = inputlayers\n",
    "        self.hnode = hiddenlayers\n",
    "        self.onode = outputlayers\n",
    "        # learning rate\n",
    "        self.lr = learningrate\n",
    "        self.whi = np.random.normal(0.0, pow(self.hnode,-0.5),(self.hnode, self.inode))\n",
    "        self.who = np.random.normal(0.0, pow(self.onode, -0.5),(self.onode, self.hnode)) \n",
    "        self.sigmoid = lambda x: 1/(1 + np.exp(-x))\n",
    "        pass\n",
    "    \n",
    "    def train(self, inputs_list, target_list):\n",
    "        inputs = np.array(inputs_list, ndmin = 2).T\n",
    "        targets = np.array(target_list, ndmin = 2).T\n",
    "        \n",
    "        # hidden layer activation\n",
    "        hidden_inputs = np.dot(self.whi, inputs)\n",
    "        hidden_outputs = self.sigmoid(hidden_inputs)\n",
    "        \n",
    "        # final layer activation\n",
    "        final_inputs = np.dot(self.who, hidden_outputs)\n",
    "        final_outputs = self.sigmoid(final_inputs)\n",
    "        \n",
    "        # backprop\n",
    "        output_error = targets - final_outputs\n",
    "        hidden_error = np.dot(self.who.T, output_error)\n",
    "        \n",
    "        # GDA\n",
    "        \n",
    "        self.who = self.who + self.lr*np.dot(output_error*final_outputs*(1 - final_outputs), hidden_outputs.T)\n",
    "        self.whi = self.whi + self.lr*np.dot(hidden_error*hidden_outputs*(1-hidden_outputs), inputs.T)\n",
    "        \n",
    "        pass\n",
    "    \n",
    "    def query(self, input_list):\n",
    "        \n",
    "        # convert to 2d array (why?)\n",
    "        inputs = np.array(input_list,ndmin = 2).T\n",
    "        \n",
    "        # hidden layer activation\n",
    "        hidden_inputs = np.dot(self.whi, inputs)\n",
    "        hidden_outputs = self.sigmoid(hidden_inputs)\n",
    "        \n",
    "        # final layer activation\n",
    "        final_inputs = np.dot(self.who, hidden_outputs)\n",
    "        final_outputs = self.sigmoid(final_inputs)\n",
    "        return final_outputs\n",
    "    \n",
    "    \n",
    " "
   ]
  },
  {
   "cell_type": "code",
   "execution_count": 5,
   "metadata": {
    "collapsed": true
   },
   "outputs": [],
   "source": [
    "inputlayers = 784\n",
    "hiddenlayers = 100\n",
    "outputlayers = 10\n",
    "learningrate = 0.3\n"
   ]
  },
  {
   "cell_type": "code",
   "execution_count": 6,
   "metadata": {
    "collapsed": false
   },
   "outputs": [],
   "source": [
    "Nn = NeuralNets(inputlayers, hiddenlayers, outputlayers, learningrate)"
   ]
  },
  {
   "cell_type": "code",
   "execution_count": 7,
   "metadata": {
    "collapsed": false
   },
   "outputs": [],
   "source": [
    "data_file = open('F:\\\\machine learning\\\\urgent study\\\\mnist_train_100.csv', 'r')\n",
    "#data_file = open('C:\\\\Users\\\\kunal\\\\Downloads\\\\mnist_train.csv', 'r')\n",
    "data_line = data_file.readlines()\n",
    "data_file.close()"
   ]
  },
  {
   "cell_type": "code",
   "execution_count": 8,
   "metadata": {
    "collapsed": false
   },
   "outputs": [],
   "source": [
    "for every_line in data_line:\n",
    "    inputs = every_line.split(',')\n",
    "    inputs_net = np.asfarray(inputs[1:])/255*0.99 + 0.01\n",
    "    target = np.zeros(outputlayers) + 0.01\n",
    "    target[int(inputs[0])] = 0.99\n",
    "    Nn.train(inputs_net, target)\n",
    "    \n"
   ]
  },
  {
   "cell_type": "code",
   "execution_count": 9,
   "metadata": {
    "collapsed": false
   },
   "outputs": [
    {
     "name": "stdout",
     "output_type": "stream",
     "text": [
      "57.07\n"
     ]
    }
   ],
   "source": [
    "data_test_file = open('C:\\\\Users\\\\kunal\\\\Downloads\\\\mnist_test.csv','r')\n",
    "data_test_line = data_test_file.readlines()\n",
    "data_test_file.close()\n",
    "\n",
    "score = []\n",
    "for test in data_test_line:\n",
    "    test_data = test.split(',')\n",
    "    correct_ans = float(test_data[0])\n",
    "    test_data = np.asfarray(test_data[1:])/255*0.99 + 0.01\n",
    "    Neural = Nn.query(test_data)\n",
    "    Neural = float(Neural.argmax())\n",
    "#    print('The correct ans is: ', correct_ans)\n",
    "#    print('The answer predicted is: ', Neural)\n",
    "#    print()\n",
    "    if correct_ans == Neural:\n",
    "        score.append(1)\n",
    "    else:\n",
    "        score.append(0)\n",
    "percentage_score = (sum(score)/len(score))*100\n",
    "\n",
    "print(percentage_score)\n",
    "    "
   ]
  },
  {
   "cell_type": "code",
   "execution_count": 10,
   "metadata": {
    "collapsed": true
   },
   "outputs": [],
   "source": [
    "import numpy as np\n",
    "import matplotlib.pyplot as plt\n",
    "% matplotlib inline"
   ]
  },
  {
   "cell_type": "code",
   "execution_count": 11,
   "metadata": {
    "collapsed": true
   },
   "outputs": [],
   "source": [
    "class NeuralNets2:\n",
    "    \n",
    "    def __init__(self, inputlayers, hiddenlayer1, hiddenlayer2, outputlayers, learningrate):\n",
    "        self.inode = inputlayers\n",
    "        self.hnode1 = hiddenlayer1\n",
    "        self.hnode2 = hiddenlayer2\n",
    "        self.onode = outputlayers\n",
    "        # learning rate\n",
    "        self.lr = learningrate\n",
    "        self.whi_1 = np.random.normal(0.0, pow(self.hnode1,-0.5),(self.hnode1, self.inode))\n",
    "        self.whi_2 = np.random.normal(0.0, pow(self.hnode2,-0.5),(self.hnode2, self.hnode1))\n",
    "        self.who = np.random.normal(0.0, pow(self.onode, -0.5),(self.onode, self.hnode2)) \n",
    "        self.sigmoid = lambda x: 1/(1 + np.exp(-x))\n",
    "        pass\n",
    "    \n",
    "    def train(self, inputs_list, target_list):\n",
    "        inputs = np.array(inputs_list, ndmin = 2).T\n",
    "        targets = np.array(target_list, ndmin = 2).T\n",
    "        \n",
    "        # first hidden layer activation\n",
    "        hidden_inputs_1 = np.dot(self.whi_1, inputs)\n",
    "        hidden_outputs_1 = self.sigmoid(hidden_inputs_1)\n",
    "        \n",
    "        # second hidden layer activation\n",
    "        hidden_inputs_2 = np.dot(self.whi_2, hidden_outputs_1)\n",
    "        hidden_outputs_2 = self.sigmoid(hidden_inputs_2)\n",
    "        \n",
    "        # final layer activation\n",
    "        final_inputs = np.dot(self.who, hidden_outputs_2)\n",
    "        final_outputs = self.sigmoid(final_inputs)\n",
    "        \n",
    "        # backprop\n",
    "        output_error = targets - final_outputs\n",
    "        hidden_error_2 = np.dot(self.who.T, output_error)\n",
    "        hidden_error_1 = np.dot(self.whi_2.T, hidden_error_2)\n",
    "        \n",
    "        # GDA\n",
    "        \n",
    "        self.who = self.who + self.lr*np.dot(output_error*final_outputs*(1 - final_outputs), hidden_outputs_2.T)\n",
    "        self.whi_2 = self.whi_2 + self.lr*np.dot(hidden_error_2*hidden_outputs_2*(1-hidden_outputs_2), hidden_outputs_1.T)\n",
    "        self.whi_1 = self.whi_1 + self.lr*np.dot(hidden_error_1*hidden_outputs_1*(1-hidden_outputs_1), inputs.T)\n",
    "        \n",
    "        pass\n",
    "    \n",
    "    def query(self, input_list):\n",
    "        \n",
    "        # convert to 2d array (why?)\n",
    "        inputs = np.array(input_list, ndmin = 2).T\n",
    "        \n",
    "         # first hidden layer activation\n",
    "        hidden_inputs_1 = np.dot(self.whi_1, inputs)\n",
    "        hidden_outputs_1 = self.sigmoid(hidden_inputs_1)\n",
    "        \n",
    "        # second hidden layer activation\n",
    "        hidden_inputs_2 = np.dot(self.whi_2, hidden_outputs_1)\n",
    "        hidden_outputs_2 = self.sigmoid(hidden_inputs_2)\n",
    "        \n",
    "        # final layer activation\n",
    "        final_inputs = np.dot(self.who, hidden_outputs_2)\n",
    "        final_outputs = self.sigmoid(final_inputs)\n",
    "        return final_outputs\n"
   ]
  },
  {
   "cell_type": "code",
   "execution_count": 12,
   "metadata": {
    "collapsed": true
   },
   "outputs": [],
   "source": [
    "inputlayers = 784\n",
    "hiddenlayer1 = 100\n",
    "hiddenlayer2 = 50\n",
    "outputlayers = 10\n",
    "learningrate = 0.3"
   ]
  },
  {
   "cell_type": "code",
   "execution_count": 13,
   "metadata": {
    "collapsed": false
   },
   "outputs": [],
   "source": [
    "Nn2 = NeuralNets2(inputlayers, hiddenlayer1, hiddenlayer2, outputlayers, learningrate)"
   ]
  },
  {
   "cell_type": "code",
   "execution_count": 14,
   "metadata": {
    "collapsed": true
   },
   "outputs": [],
   "source": [
    "data_file = open('C:\\\\Users\\\\kunal\\\\Downloads\\\\mnist_train.csv', 'r')\n",
    "data_line = data_file.readlines()\n",
    "data_file.close()"
   ]
  },
  {
   "cell_type": "code",
   "execution_count": 15,
   "metadata": {
    "collapsed": false
   },
   "outputs": [
    {
     "name": "stderr",
     "output_type": "stream",
     "text": [
      "C:\\Users\\kunal\\Anaconda3\\lib\\site-packages\\ipykernel\\__main__.py:13: RuntimeWarning: overflow encountered in exp\n"
     ]
    }
   ],
   "source": [
    "for every_line in data_line:\n",
    "    inputs = every_line.split(',')\n",
    "    inputs_net = np.asfarray(inputs[1:])/255*0.99 + 0.01\n",
    "    target = np.zeros(outputlayers) + 0.01\n",
    "    target[int(inputs[0])] = 0.99\n",
    "    Nn2.train(inputs_net, target)"
   ]
  },
  {
   "cell_type": "code",
   "execution_count": 16,
   "metadata": {
    "collapsed": false
   },
   "outputs": [
    {
     "name": "stderr",
     "output_type": "stream",
     "text": [
      "C:\\Users\\kunal\\Anaconda3\\lib\\site-packages\\ipykernel\\__main__.py:13: RuntimeWarning: overflow encountered in exp\n"
     ]
    },
    {
     "name": "stdout",
     "output_type": "stream",
     "text": [
      "78.51\n"
     ]
    }
   ],
   "source": [
    "data_test_file = open('C:\\\\Users\\\\kunal\\\\Downloads\\\\mnist_test.csv','r')\n",
    "data_test_line = data_test_file.readlines()\n",
    "data_test_file.close()\n",
    "\n",
    "score = []\n",
    "for test in data_test_line:\n",
    "    test_data = test.split(',')\n",
    "    correct_ans = float(test_data[0])\n",
    "    test_data = np.asfarray(test_data[1:])/255*0.99 + 0.01\n",
    "    Neural = Nn2.query(test_data)\n",
    "    Neural = float(Neural.argmax())\n",
    "#    print('The correct ans is: ', correct_ans)\n",
    "#    print('The answer predicted is: ', Neural)\n",
    "#    print()\n",
    "    if correct_ans == Neural:\n",
    "        score.append(1)\n",
    "    else:\n",
    "        score.append(0)\n",
    "percentage_score = (sum(score)/len(score))*100\n",
    "\n",
    "print(percentage_score)"
   ]
  },
  {
   "cell_type": "code",
   "execution_count": 17,
   "metadata": {
    "collapsed": false
   },
   "outputs": [
    {
     "data": {
      "text/plain": [
       "<matplotlib.image.AxesImage at 0x2172529abe0>"
      ]
     },
     "execution_count": 17,
     "metadata": {},
     "output_type": "execute_result"
    },
    {
     "data": {
      "image/png": "[encoded data removed]",
      "text/plain": [
       "<matplotlib.figure.Figure at 0x217250fe7f0>"
      ]
     },
     "metadata": {},
     "output_type": "display_data"
    }
   ],
   "source": [
    "data_test_file = open('F:\\\\machine learning\\\\urgent study\\\\mnist_test_10.csv','r')\n",
    "data_test_line = data_test_file.readlines()\n",
    "data_test_file.close()\n",
    "\n",
    "test_data = data_test_line[8].split(',')\n",
    "test_image_data = np.asfarray(test_data[1:]).reshape(28,28)\n",
    "plt.imshow(test_image_data, cmap = 'Greys', interpolation = None)"
   ]
  },
  {
   "cell_type": "code",
   "execution_count": null,
   "metadata": {
    "collapsed": true
   },
   "outputs": [],
   "source": []
  },
  {
   "cell_type": "code",
   "execution_count": 18,
   "metadata": {
    "collapsed": false
   },
   "outputs": [
    {
     "data": {
      "text/plain": [
       "array([[ 0.02636976],\n",
       "       [ 0.18744359],\n",
       "       [ 0.01588689],\n",
       "       [ 0.00209756],\n",
       "       [ 0.16241185],\n",
       "       [ 0.16559036],\n",
       "       [ 0.03617705],\n",
       "       [ 0.04723346],\n",
       "       [ 0.03484713],\n",
       "       [ 0.00072734]])"
      ]
     },
     "execution_count": 18,
     "metadata": {},
     "output_type": "execute_result"
    }
   ],
   "source": [
    "test_data_query = np.asfarray(test_data[1:])/255*0.99 + 0.01\n",
    "Nn.query(test_data_query)"
   ]
  },
  {
   "cell_type": "code",
   "execution_count": 19,
   "metadata": {
    "collapsed": true
   },
   "outputs": [],
   "source": [
    "import matplotlib.pyplot as plt\n",
    "%matplotlib inline"
   ]
  },
  {
   "cell_type": "code",
   "execution_count": 20,
   "metadata": {
    "collapsed": false
   },
   "outputs": [
    {
     "data": {
      "text/plain": [
       "<matplotlib.image.AxesImage at 0x2172f393dd8>"
      ]
     },
     "execution_count": 20,
     "metadata": {},
     "output_type": "execute_result"
    },
    {
     "data": {
      "image/png": "[encoded data removed]",
      "text/plain": [
       "<matplotlib.figure.Figure at 0x217250fb748>"
      ]
     },
     "metadata": {},
     "output_type": "display_data"
    }
   ],
   "source": [
    "all_data = data_line[0].split(',')\n",
    "image_data = np.asfarray(all_data[1:]).reshape(28,28)\n",
    "plt.imshow(image_data, cmap = 'Greys', interpolation = None)"
   ]
  },
  {
   "cell_type": "code",
   "execution_count": 21,
   "metadata": {
    "collapsed": false
   },
   "outputs": [],
   "source": [
    "all_data_scaled = (np.asfarray(all_data[1:])/255)*0.99 + 0.01\n",
    "#print( all_data_scaled)"
   ]
  },
  {
   "cell_type": "code",
   "execution_count": 22,
   "metadata": {
    "collapsed": false
   },
   "outputs": [
    {
     "data": {
      "text/plain": [
       "array([ 0.01,  0.01,  0.01,  0.01,  0.01,  0.99,  0.01,  0.01,  0.01,  0.01])"
      ]
     },
     "execution_count": 22,
     "metadata": {},
     "output_type": "execute_result"
    }
   ],
   "source": [
    "onodes = 10\n",
    "target = np.zeros(onodes) + 0.01\n",
    "target[int(all_data[0])] = 0.99\n",
    "target"
   ]
  },
  {
   "cell_type": "code",
   "execution_count": 23,
   "metadata": {
    "collapsed": true
   },
   "outputs": [],
   "source": [
    "a = np.random.rand(1,5)"
   ]
  },
  {
   "cell_type": "code",
   "execution_count": 24,
   "metadata": {
    "collapsed": false
   },
   "outputs": [
    {
     "data": {
      "text/plain": [
       "array([[ 0.45009466,  0.82656995,  0.44262352,  0.26549617,  0.7587111 ]])"
      ]
     },
     "execution_count": 24,
     "metadata": {},
     "output_type": "execute_result"
    }
   ],
   "source": [
    "a"
   ]
  },
  {
   "cell_type": "code",
   "execution_count": 25,
   "metadata": {
    "collapsed": false
   },
   "outputs": [
    {
     "data": {
      "text/plain": [
       "1"
      ]
     },
     "execution_count": 25,
     "metadata": {},
     "output_type": "execute_result"
    }
   ],
   "source": [
    "a.argmax()"
   ]
  },
  {
   "cell_type": "code",
   "execution_count": 26,
   "metadata": {
    "collapsed": false
   },
   "outputs": [
    {
     "data": {
      "text/plain": [
       "'23'"
      ]
     },
     "execution_count": 26,
     "metadata": {},
     "output_type": "execute_result"
    }
   ],
   "source": [
    "a = str(23)\n",
    "a"
   ]
  },
  {
   "cell_type": "code",
   "execution_count": 27,
   "metadata": {
    "collapsed": false
   },
   "outputs": [
    {
     "data": {
      "text/plain": [
       "23.0"
      ]
     },
     "execution_count": 27,
     "metadata": {},
     "output_type": "execute_result"
    }
   ],
   "source": [
    "a = float(a)\n",
    "a"
   ]
  },
  {
   "cell_type": "code",
   "execution_count": 28,
   "metadata": {
    "collapsed": false
   },
   "outputs": [
    {
     "data": {
      "text/plain": [
       "51"
      ]
     },
     "execution_count": 28,
     "metadata": {},
     "output_type": "execute_result"
    }
   ],
   "source": [
    "a = [2,43,6]\n",
    "sum(a)"
   ]
  },
  {
   "cell_type": "code",
   "execution_count": 35,
   "metadata": {
    "collapsed": false
   },
   "outputs": [
    {
     "data": {
      "text/plain": [
       "(2,)"
      ]
     },
     "execution_count": 35,
     "metadata": {},
     "output_type": "execute_result"
    }
   ],
   "source": [
    "a = np.array([2,3,4], ndmin = 2)\n",
    "a.shape\n",
    "b = np.random.normal(3, 2, 2)\n",
    "b.shape"
   ]
  },
  {
   "cell_type": "code",
   "execution_count": null,
   "metadata": {
    "collapsed": true
   },
   "outputs": [],
   "source": []
  }
 ],
 "metadata": {
  "anaconda-cloud": {},
  "kernelspec": {
   "display_name": "Python [default]",
   "language": "python",
   "name": "python3"
  },
  "language_info": {
   "codemirror_mode": {
    "name": "ipython",
    "version": 3
   },
   "file_extension": ".py",
   "mimetype": "text/x-python",
   "name": "python",
   "nbconvert_exporter": "python",
   "pygments_lexer": "ipython3",
   "version": "3.5.2"
  }
 },
 "nbformat": 4,
 "nbformat_minor": 1
}
