{
 "cells": [
  {
   "cell_type": "code",
   "execution_count": 2,
   "metadata": {
    "collapsed": false
   },
   "outputs": [],
   "source": [
    "import numpy as np\n",
    "import matplotlib.pyplot as plt\n",
    "% matplotlib inline"
   ]
  },
  {
   "cell_type": "code",
   "execution_count": 3,
   "metadata": {
    "collapsed": true
   },
   "outputs": [],
   "source": [
    "class NeuralNets:\n",
    "    \n",
    "    def __init__(self, inputlayers, hiddenlayers, outputlayers, learningrate):\n",
    "        self.inode = inputlayers\n",
    "        self.hnode = hiddenlayers\n",
    "        self.onode = outputlayers\n",
    "        # learning rate\n",
    "        self.lr = learningrate\n",
    "        self.whi = np.random.normal(0.0, pow(self.hnode,-0.5),(self.hnode, self.inode))\n",
    "        self.who = np.random.normal(0.0, pow(self.onode, -0.5),(self.onode, self.hnode)) \n",
    "        self.sigmoid = lambda x: 1/(1 + np.exp(-x))\n",
    "        pass\n",
    "    \n",
    "    def train(self, inputs_list, target_list):\n",
    "        inputs = np.array(inputs_list, ndmin = 2).T\n",
    "        targets = np.array(target_list, ndmin = 2).T\n",
    "        \n",
    "        # hidden layer activation\n",
    "        hidden_inputs = np.dot(self.whi, inputs)\n",
    "        hidden_outputs = self.sigmoid(hidden_inputs)\n",
    "        \n",
    "        # final layer activation\n",
    "        final_inputs = np.dot(self.who, hidden_outputs)\n",
    "        final_outputs = self.sigmoid(final_inputs)\n",
    "        \n",
    "        # backprop\n",
    "        output_error = targets - final_outputs\n",
    "        hidden_error = np.dot(self.who.T, output_error)\n",
    "        \n",
    "        # GDA\n",
    "        \n",
    "        self.who = self.who + self.lr*np.dot(output_error*final_outputs*(1 - final_outputs), hidden_outputs.T)\n",
    "        self.whi = self.whi + self.lr*np.dot(hidden_error*hidden_outputs*(1-hidden_outputs), inputs.T)\n",
    "        \n",
    "        pass\n",
    "    \n",
    "    def query(self, input_list):\n",
    "        \n",
    "        # convert to 2d array (why?)\n",
    "        inputs = np.array(input_list,ndmin = 2).T\n",
    "        \n",
    "        # hidden layer activation\n",
    "        hidden_inputs = np.dot(self.whi, inputs)\n",
    "        hidden_outputs = self.sigmoid(hidden_inputs)\n",
    "        \n",
    "        # final layer activation\n",
    "        final_inputs = np.dot(self.who, hidden_outputs)\n",
    "        final_outputs = self.sigmoid(final_inputs)\n",
    "        return final_outputs\n",
    "    \n",
    "    \n",
    " "
   ]
  },
  {
   "cell_type": "code",
   "execution_count": 4,
   "metadata": {
    "collapsed": true
   },
   "outputs": [],
   "source": [
    "inputlayers = 784\n",
    "hiddenlayers = 100\n",
    "outputlayers = 10\n",
    "learningrate = 0.3\n"
   ]
  },
  {
   "cell_type": "code",
   "execution_count": 5,
   "metadata": {
    "collapsed": true
   },
   "outputs": [],
   "source": [
    "Nn = NeuralNets(inputlayers, hiddenlayers, outputlayers, learningrate)"
   ]
  },
  {
   "cell_type": "code",
   "execution_count": 6,
   "metadata": {
    "collapsed": true
   },
   "outputs": [],
   "source": [
    "#data_file = open('F:\\\\machine learning\\\\urgent study\\\\mnist_train_100.csv', 'r')\n",
    "data_file = open('C:\\\\Users\\\\kunal\\\\Downloads\\\\mnist_train.csv', 'r')\n",
    "data_line = data_file.readlines()\n",
    "data_file.close()"
   ]
  },
  {
   "cell_type": "code",
   "execution_count": 7,
   "metadata": {
    "collapsed": true
   },
   "outputs": [],
   "source": [
    "for every_line in data_line:\n",
    "    inputs = every_line.split(',')\n",
    "    inputs_net = np.asfarray(inputs[1:])/255*0.99 + 0.01\n",
    "    target = np.zeros(outputlayers) + 0.01\n",
    "    target[int(inputs[0])] = 0.99\n",
    "    Nn.train(inputs_net, target)\n",
    "    \n"
   ]
  },
  {
   "cell_type": "code",
   "execution_count": 8,
   "metadata": {
    "collapsed": false
   },
   "outputs": [
    {
     "name": "stdout",
     "output_type": "stream",
     "text": [
      "94.74000000000001\n"
     ]
    }
   ],
   "source": [
    "data_test_file = open('C:\\\\Users\\\\kunal\\\\Downloads\\\\mnist_test.csv','r')\n",
    "data_test_line = data_test_file.readlines()\n",
    "data_test_file.close()\n",
    "\n",
    "score = []\n",
    "for test in data_test_line:\n",
    "    test_data = test.split(',')\n",
    "    correct_ans = float(test_data[0])\n",
    "    test_data = np.asfarray(test_data[1:])/255*0.99 + 0.01\n",
    "    Neural = Nn.query(test_data)\n",
    "    Neural = float(Neural.argmax())\n",
    "#    print('The correct ans is: ', correct_ans)\n",
    "#    print('The answer predicted is: ', Neural)\n",
    "#    print()\n",
    "    if correct_ans == Neural:\n",
    "        score.append(1)\n",
    "    else:\n",
    "        score.append(0)\n",
    "percentage_score = (sum(score)/len(score))*100\n",
    "\n",
    "print(percentage_score)\n",
    "    "
   ]
  },
  {
   "cell_type": "code",
   "execution_count": null,
   "metadata": {
    "collapsed": true
   },
   "outputs": [],
   "source": []
  }
 ],
 "metadata": {
  "anaconda-cloud": {},
  "kernelspec": {
   "display_name": "Python [default]",
   "language": "python",
   "name": "python3"
  },
  "language_info": {
   "codemirror_mode": {
    "name": "ipython",
    "version": 3
   },
   "file_extension": ".py",
   "mimetype": "text/x-python",
   "name": "python",
   "nbconvert_exporter": "python",
   "pygments_lexer": "ipython3",
   "version": "3.5.2"
  }
 },
 "nbformat": 4,
 "nbformat_minor": 1
}
