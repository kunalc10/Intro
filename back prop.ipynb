{
 "cells": [
  {
   "cell_type": "code",
   "execution_count": 1,
   "metadata": {
    "collapsed": true
   },
   "outputs": [],
   "source": [
    "import pandas as pd\n",
    "import numpy as np\n",
    "import matplotlib.pyplot as plt\n",
    "% matplotlib inline"
   ]
  },
  {
   "cell_type": "code",
   "execution_count": 2,
   "metadata": {
    "collapsed": false
   },
   "outputs": [
    {
     "data": {
      "text/html": [
       "<div>\n",
       "<table border=\"1\" class=\"dataframe\">\n",
       "  <thead>\n",
       "    <tr style=\"text-align: right;\">\n",
       "      <th></th>\n",
       "      <th>5.1</th>\n",
       "      <th>3.5</th>\n",
       "      <th>1.4</th>\n",
       "      <th>0.2</th>\n",
       "      <th>Iris-setosa</th>\n",
       "    </tr>\n",
       "  </thead>\n",
       "  <tbody>\n",
       "    <tr>\n",
       "      <th>56</th>\n",
       "      <td>4.9</td>\n",
       "      <td>2.4</td>\n",
       "      <td>3.3</td>\n",
       "      <td>1.0</td>\n",
       "      <td>Iris-versicolor</td>\n",
       "    </tr>\n",
       "    <tr>\n",
       "      <th>11</th>\n",
       "      <td>4.8</td>\n",
       "      <td>3.0</td>\n",
       "      <td>1.4</td>\n",
       "      <td>0.1</td>\n",
       "      <td>Iris-setosa</td>\n",
       "    </tr>\n",
       "    <tr>\n",
       "      <th>142</th>\n",
       "      <td>6.8</td>\n",
       "      <td>3.2</td>\n",
       "      <td>5.9</td>\n",
       "      <td>2.3</td>\n",
       "      <td>Iris-virginica</td>\n",
       "    </tr>\n",
       "    <tr>\n",
       "      <th>5</th>\n",
       "      <td>4.6</td>\n",
       "      <td>3.4</td>\n",
       "      <td>1.4</td>\n",
       "      <td>0.3</td>\n",
       "      <td>Iris-setosa</td>\n",
       "    </tr>\n",
       "    <tr>\n",
       "      <th>33</th>\n",
       "      <td>4.9</td>\n",
       "      <td>3.1</td>\n",
       "      <td>1.5</td>\n",
       "      <td>0.1</td>\n",
       "      <td>Iris-setosa</td>\n",
       "    </tr>\n",
       "  </tbody>\n",
       "</table>\n",
       "</div>"
      ],
      "text/plain": [
       "     5.1  3.5  1.4  0.2      Iris-setosa\n",
       "56   4.9  2.4  3.3  1.0  Iris-versicolor\n",
       "11   4.8  3.0  1.4  0.1      Iris-setosa\n",
       "142  6.8  3.2  5.9  2.3   Iris-virginica\n",
       "5    4.6  3.4  1.4  0.3      Iris-setosa\n",
       "33   4.9  3.1  1.5  0.1      Iris-setosa"
      ]
     },
     "execution_count": 2,
     "metadata": {},
     "output_type": "execute_result"
    }
   ],
   "source": [
    "df = pd.read_csv('F:\\\\machine learning\\\\urgent study\\\\iris.data.txt')\n",
    "df = df.sample(frac = 1)\n",
    "df.head()\n"
   ]
  },
  {
   "cell_type": "code",
   "execution_count": 3,
   "metadata": {
    "collapsed": false
   },
   "outputs": [],
   "source": [
    "df.head().reset_index().drop('index', axis = 1, inplace = True)\n",
    "df.columns = (['sepal_length', 'sepal_width', 'petal_length', 'petal_width', 'class_type'])"
   ]
  },
  {
   "cell_type": "code",
   "execution_count": 4,
   "metadata": {
    "collapsed": false
   },
   "outputs": [],
   "source": [
    "def changer(cell):\n",
    "    if cell.class_type == 'Iris-setosa':\n",
    "        return 0\n",
    "    elif cell.class_type == 'Iris-versicolor':\n",
    "        return 1\n",
    "    else :\n",
    "        return 2\n",
    "df['target'] = df.apply(changer, axis = 1 )\n"
   ]
  },
  {
   "cell_type": "code",
   "execution_count": 5,
   "metadata": {
    "collapsed": false
   },
   "outputs": [
    {
     "data": {
      "text/plain": [
       "<matplotlib.collections.PathCollection at 0x2100aeacd30>"
      ]
     },
     "execution_count": 5,
     "metadata": {},
     "output_type": "execute_result"
    },
    {
     "data": {
      "image/png": "[encoded data removed]",
      "text/plain": [
       "<matplotlib.figure.Figure at 0x2100ae2d4e0>"
      ]
     },
     "metadata": {},
     "output_type": "display_data"
    }
   ],
   "source": [
    "plt.figure()\n",
    "plt.scatter(df[(df.class_type.isin(['Iris-setosa']))].sepal_length, df[(df.class_type.isin(['Iris-setosa']))].petal_length, )\n",
    "plt.scatter(df[(df.class_type.isin(['Iris-versicolor']))].sepal_length, df[(df.class_type.isin(['Iris-versicolor']))].petal_length, color = 'r', marker = '+')\n",
    "plt.scatter(df[(df.class_type.isin(['Iris-virginica']))].sepal_length, df[(df.class_type.isin(['Iris-virginica']))].petal_length, color = 'g', marker = 'v')\n"
   ]
  },
  {
   "cell_type": "code",
   "execution_count": 6,
   "metadata": {
    "collapsed": false
   },
   "outputs": [
    {
     "data": {
      "text/html": [
       "<div>\n",
       "<table border=\"1\" class=\"dataframe\">\n",
       "  <thead>\n",
       "    <tr style=\"text-align: right;\">\n",
       "      <th></th>\n",
       "      <th>sepal_length</th>\n",
       "      <th>sepal_width</th>\n",
       "      <th>petal_length</th>\n",
       "      <th>petal_width</th>\n",
       "      <th>class_type</th>\n",
       "      <th>target</th>\n",
       "    </tr>\n",
       "  </thead>\n",
       "  <tbody>\n",
       "    <tr>\n",
       "      <th>0</th>\n",
       "      <td>4.9</td>\n",
       "      <td>3.0</td>\n",
       "      <td>1.4</td>\n",
       "      <td>0.2</td>\n",
       "      <td>Iris-setosa</td>\n",
       "      <td>0</td>\n",
       "    </tr>\n",
       "    <tr>\n",
       "      <th>69</th>\n",
       "      <td>5.9</td>\n",
       "      <td>3.2</td>\n",
       "      <td>4.8</td>\n",
       "      <td>1.8</td>\n",
       "      <td>Iris-versicolor</td>\n",
       "      <td>1</td>\n",
       "    </tr>\n",
       "    <tr>\n",
       "      <th>133</th>\n",
       "      <td>6.1</td>\n",
       "      <td>2.6</td>\n",
       "      <td>5.6</td>\n",
       "      <td>1.4</td>\n",
       "      <td>Iris-virginica</td>\n",
       "      <td>2</td>\n",
       "    </tr>\n",
       "    <tr>\n",
       "      <th>103</th>\n",
       "      <td>6.5</td>\n",
       "      <td>3.0</td>\n",
       "      <td>5.8</td>\n",
       "      <td>2.2</td>\n",
       "      <td>Iris-virginica</td>\n",
       "      <td>2</td>\n",
       "    </tr>\n",
       "    <tr>\n",
       "      <th>136</th>\n",
       "      <td>6.4</td>\n",
       "      <td>3.1</td>\n",
       "      <td>5.5</td>\n",
       "      <td>1.8</td>\n",
       "      <td>Iris-virginica</td>\n",
       "      <td>2</td>\n",
       "    </tr>\n",
       "  </tbody>\n",
       "</table>\n",
       "</div>"
      ],
      "text/plain": [
       "     sepal_length  sepal_width  petal_length  petal_width       class_type  \\\n",
       "0             4.9          3.0           1.4          0.2      Iris-setosa   \n",
       "69            5.9          3.2           4.8          1.8  Iris-versicolor   \n",
       "133           6.1          2.6           5.6          1.4   Iris-virginica   \n",
       "103           6.5          3.0           5.8          2.2   Iris-virginica   \n",
       "136           6.4          3.1           5.5          1.8   Iris-virginica   \n",
       "\n",
       "     target  \n",
       "0         0  \n",
       "69        1  \n",
       "133       2  \n",
       "103       2  \n",
       "136       2  "
      ]
     },
     "execution_count": 6,
     "metadata": {},
     "output_type": "execute_result"
    }
   ],
   "source": [
    "# the intention is to train a NN on iris dataset.\n",
    "df_test = df.sample(20)\n",
    "df_test.head()"
   ]
  },
  {
   "cell_type": "code",
   "execution_count": 7,
   "metadata": {
    "collapsed": false
   },
   "outputs": [
    {
     "data": {
      "text/plain": [
       "129"
      ]
     },
     "execution_count": 7,
     "metadata": {},
     "output_type": "execute_result"
    }
   ],
   "source": [
    "df_train = df[(~df.isin(df_test))]\n",
    "df_train.dropna(inplace = True)\n",
    "df_train.head()\n",
    "len(df_train)"
   ]
  },
  {
   "cell_type": "code",
   "execution_count": 8,
   "metadata": {
    "collapsed": true
   },
   "outputs": [],
   "source": [
    "# formation of Neural network with stochastic optimization\n",
    "class Neural:\n",
    "    #initialization\n",
    "    def __init__(self, input_layer, hidden_layer,output_layer, learning_rate):\n",
    "        self.i = input_layer\n",
    "        self.h = hidden_layer\n",
    "        self.o = output_layer\n",
    "        self.lr = learning_rate\n",
    "        self.activation = lambda x: 1/(1 + np.exp(-x))\n",
    "        # random initialization of weights\n",
    "        self.whi = np.random.normal(0.0, pow(self.h,-0.5), (self.h, self.i))\n",
    "        self.who = np.random.normal(0.0, pow(self.o,-0.5), (self.o, self.h ))\n",
    "#        print(self.whi.shape, self.who.shape)\n",
    "        \n",
    "        pass\n",
    "    def train(self, input_data, target_data):\n",
    "    # feed forward\n",
    "        self.inp = np.array(input_data, ndmin = 2).T\n",
    "        self.tar = np.array(target_data, ndmin = 2).T\n",
    "        \n",
    "        self.hidden_input = np.dot(self.whi, self.inp)\n",
    "        self.hidden_output = self.activation(self.hidden_input)\n",
    "#        print(self.hidden_input.shape)\n",
    "#        self.bias =  np.zeros((self.h,1)) + 1\n",
    "#        self.hidden_output_bias = np.append(self.hidden_output,self.bias, axis = 0)\n",
    "        \n",
    "        outer_input = np.dot(self.who, self.hidden_output)\n",
    "        final_output = self.activation(outer_input)\n",
    "        \n",
    "    # error determination\n",
    "        output_error = self.tar - final_output\n",
    "#        print(output_error.shape)\n",
    "        hidden_error = np.dot(self.who.T, output_error)\n",
    "        \n",
    "    # back propagation\n",
    "        self.who = self.who + self.lr*np.dot((output_error*final_output*(1-final_output)), self.hidden_output.T)\n",
    "        self.whi = self.whi + self.lr*np.dot((hidden_error*self.hidden_output*(1-self.hidden_output)), self.inp.T)\n",
    "        \n",
    "        pass\n",
    "    def predict(self, input_data):\n",
    "        self.inp = np.array(input_data, ndmin = 2).T\n",
    "    \n",
    "        \n",
    "        self.hidden_input = np.dot(self.whi, self.inp)\n",
    "        self.hidden_output = self.activation(self.hidden_input)\n",
    "#        self.bias =  np.zeros((self.h,1)) + 1\n",
    "#        self.hidden_output_bias = np.append(self.hidden_output,self.bias, axis = 0)\n",
    "        \n",
    "        \n",
    "        outer_input = np.dot(self.who, self.hidden_output)\n",
    "        final_output = self.activation(outer_input)\n",
    "        \n",
    "        return final_output\n",
    "    pass\n",
    "\n",
    "    \n",
    "        "
   ]
  },
  {
   "cell_type": "code",
   "execution_count": 9,
   "metadata": {
    "collapsed": false
   },
   "outputs": [],
   "source": [
    "input_layer = 4\n",
    "hidden_layer = 4\n",
    "output_layer = 3\n",
    "learning_rate = 0.3\n",
    "\n",
    "NN  = Neural(input_layer, hidden_layer, output_layer, learning_rate)"
   ]
  },
  {
   "cell_type": "code",
   "execution_count": 10,
   "metadata": {
    "collapsed": false
   },
   "outputs": [
    {
     "data": {
      "text/html": [
       "<div>\n",
       "<table border=\"1\" class=\"dataframe\">\n",
       "  <thead>\n",
       "    <tr style=\"text-align: right;\">\n",
       "      <th></th>\n",
       "      <th>sepal_length</th>\n",
       "      <th>sepal_width</th>\n",
       "      <th>petal_length</th>\n",
       "      <th>petal_width</th>\n",
       "    </tr>\n",
       "  </thead>\n",
       "  <tbody>\n",
       "    <tr>\n",
       "      <th>0</th>\n",
       "      <td>4.9</td>\n",
       "      <td>3.0</td>\n",
       "      <td>1.4</td>\n",
       "      <td>0.2</td>\n",
       "    </tr>\n",
       "    <tr>\n",
       "      <th>69</th>\n",
       "      <td>5.9</td>\n",
       "      <td>3.2</td>\n",
       "      <td>4.8</td>\n",
       "      <td>1.8</td>\n",
       "    </tr>\n",
       "    <tr>\n",
       "      <th>133</th>\n",
       "      <td>6.1</td>\n",
       "      <td>2.6</td>\n",
       "      <td>5.6</td>\n",
       "      <td>1.4</td>\n",
       "    </tr>\n",
       "    <tr>\n",
       "      <th>103</th>\n",
       "      <td>6.5</td>\n",
       "      <td>3.0</td>\n",
       "      <td>5.8</td>\n",
       "      <td>2.2</td>\n",
       "    </tr>\n",
       "    <tr>\n",
       "      <th>136</th>\n",
       "      <td>6.4</td>\n",
       "      <td>3.1</td>\n",
       "      <td>5.5</td>\n",
       "      <td>1.8</td>\n",
       "    </tr>\n",
       "  </tbody>\n",
       "</table>\n",
       "</div>"
      ],
      "text/plain": [
       "     sepal_length  sepal_width  petal_length  petal_width\n",
       "0             4.9          3.0           1.4          0.2\n",
       "69            5.9          3.2           4.8          1.8\n",
       "133           6.1          2.6           5.6          1.4\n",
       "103           6.5          3.0           5.8          2.2\n",
       "136           6.4          3.1           5.5          1.8"
      ]
     },
     "execution_count": 10,
     "metadata": {},
     "output_type": "execute_result"
    }
   ],
   "source": [
    "# data processing part 1 \n",
    "#df_train['bias'] = 1\n",
    "target = df_train['target']\n",
    "df_train.drop(['class_type', 'target'], axis = 1, inplace = True)\n",
    "df_train.head()\n",
    "\n",
    "# test_data preprocessing\n",
    "# data processing part 1 \n",
    "#df_test['bias'] = 1\n",
    "target_test = df_test['target']\n",
    "df_test.drop(['class_type', 'target'], axis = 1, inplace = True)\n",
    "df_test.head()"
   ]
  },
  {
   "cell_type": "code",
   "execution_count": 11,
   "metadata": {
    "collapsed": false
   },
   "outputs": [
    {
     "name": "stdout",
     "output_type": "stream",
     "text": [
      "(129, 4)\n",
      "(129,)\n",
      "(129, 4)\n",
      "(20,)\n"
     ]
    },
    {
     "data": {
      "text/plain": [
       "0.0"
      ]
     },
     "execution_count": 11,
     "metadata": {},
     "output_type": "execute_result"
    }
   ],
   "source": [
    "# data processing part 2\n",
    "input_data = (df_train)\n",
    "print(input_data.shape)\n",
    "\n",
    "\n",
    "print(target.shape)\n",
    "\n",
    "# test_data preprocessing\n",
    "input_data_test = (df_test)\n",
    "print(input_data.shape)\n",
    "target_test = (target_test)\n",
    "print(target_test.shape)\n",
    "target.iloc[2]"
   ]
  },
  {
   "cell_type": "code",
   "execution_count": 12,
   "metadata": {
    "collapsed": false
   },
   "outputs": [],
   "source": [
    "epoch = 200\n",
    "target_train = np.zeros((len(df_train), output_layer))\n",
    "for j in np.arange(len(target_train)):\n",
    "    target_train[j,int(target.iloc[j])] = 1\n"
   ]
  },
  {
   "cell_type": "code",
   "execution_count": 13,
   "metadata": {
    "collapsed": false
   },
   "outputs": [
    {
     "data": {
      "text/plain": [
       "array([0, 2, 2, 2, 2, 2, 0, 0, 1, 1, 2, 1, 1, 0, 2, 0, 1, 0, 2, 1], dtype=int64)"
      ]
     },
     "execution_count": 13,
     "metadata": {},
     "output_type": "execute_result"
    }
   ],
   "source": [
    "for i in np.arange(epoch):\n",
    "    for j in np.arange(len(df_train)):\n",
    "        NN.train(input_data.iloc[j], target_train[j])\n",
    "pred =(NN.predict(input_data_test))\n",
    "pred_final = np.argmax(pred, axis = 0)\n",
    "pred_final"
   ]
  },
  {
   "cell_type": "code",
   "execution_count": 14,
   "metadata": {
    "collapsed": false
   },
   "outputs": [
    {
     "name": "stdout",
     "output_type": "stream",
     "text": [
      "the accuracy is   0.85\n",
      "\n",
      "0 0\n",
      "1 2\n",
      "2 2\n",
      "2 2\n",
      "2 2\n",
      "1 2\n",
      "0 0\n",
      "0 0\n",
      "1 1\n",
      "1 1\n",
      "2 2\n",
      "1 1\n",
      "1 1\n",
      "0 0\n",
      "2 2\n",
      "0 0\n",
      "1 1\n",
      "0 0\n",
      "1 2\n",
      "1 1\n"
     ]
    }
   ],
   "source": [
    "acc = pred_final - target_test\n",
    "print(\"the accuracy is  \" ,acc.value_counts()[0]/acc.count())\n",
    "print()\n",
    "for i in np.arange(len(acc)):\n",
    "    print(target_test.iloc[i], pred_final[i])"
   ]
  },
  {
   "cell_type": "code",
   "execution_count": 15,
   "metadata": {
    "collapsed": false
   },
   "outputs": [
    {
     "data": {
      "text/plain": [
       "array([ 1.,  1.])"
      ]
     },
     "execution_count": 15,
     "metadata": {},
     "output_type": "execute_result"
    }
   ],
   "source": [
    "np.ones(2)"
   ]
  },
  {
   "cell_type": "code",
   "execution_count": null,
   "metadata": {
    "collapsed": false
   },
   "outputs": [],
   "source": []
  },
  {
   "cell_type": "code",
   "execution_count": 16,
   "metadata": {
    "collapsed": false
   },
   "outputs": [
    {
     "name": "stdout",
     "output_type": "stream",
     "text": [
      "Help on built-in function array in module numpy.core.multiarray:\n",
      "\n",
      "array(...)\n",
      "    array(object, dtype=None, copy=True, order=None, subok=False, ndmin=0)\n",
      "    \n",
      "    Create an array.\n",
      "    \n",
      "    Parameters\n",
      "    ----------\n",
      "    object : array_like\n",
      "        An array, any object exposing the array interface, an\n",
      "        object whose __array__ method returns an array, or any\n",
      "        (nested) sequence.\n",
      "    dtype : data-type, optional\n",
      "        The desired data-type for the array.  If not given, then\n",
      "        the type will be determined as the minimum type required\n",
      "        to hold the objects in the sequence.  This argument can only\n",
      "        be used to 'upcast' the array.  For downcasting, use the\n",
      "        .astype(t) method.\n",
      "    copy : bool, optional\n",
      "        If true (default), then the object is copied.  Otherwise, a copy\n",
      "        will only be made if __array__ returns a copy, if obj is a\n",
      "        nested sequence, or if a copy is needed to satisfy any of the other\n",
      "        requirements (`dtype`, `order`, etc.).\n",
      "    order : {'C', 'F', 'A'}, optional\n",
      "        Specify the order of the array.  If order is 'C', then the array\n",
      "        will be in C-contiguous order (last-index varies the fastest).\n",
      "        If order is 'F', then the returned array will be in\n",
      "        Fortran-contiguous order (first-index varies the fastest).\n",
      "        If order is 'A' (default), then the returned array may be\n",
      "        in any order (either C-, Fortran-contiguous, or even discontiguous),\n",
      "        unless a copy is required, in which case it will be C-contiguous.\n",
      "    subok : bool, optional\n",
      "        If True, then sub-classes will be passed-through, otherwise\n",
      "        the returned array will be forced to be a base-class array (default).\n",
      "    ndmin : int, optional\n",
      "        Specifies the minimum number of dimensions that the resulting\n",
      "        array should have.  Ones will be pre-pended to the shape as\n",
      "        needed to meet this requirement.\n",
      "    \n",
      "    Returns\n",
      "    -------\n",
      "    out : ndarray\n",
      "        An array object satisfying the specified requirements.\n",
      "    \n",
      "    See Also\n",
      "    --------\n",
      "    empty, empty_like, zeros, zeros_like, ones, ones_like, fill\n",
      "    \n",
      "    Examples\n",
      "    --------\n",
      "    >>> np.array([1, 2, 3])\n",
      "    array([1, 2, 3])\n",
      "    \n",
      "    Upcasting:\n",
      "    \n",
      "    >>> np.array([1, 2, 3.0])\n",
      "    array([ 1.,  2.,  3.])\n",
      "    \n",
      "    More than one dimension:\n",
      "    \n",
      "    >>> np.array([[1, 2], [3, 4]])\n",
      "    array([[1, 2],\n",
      "           [3, 4]])\n",
      "    \n",
      "    Minimum dimensions 2:\n",
      "    \n",
      "    >>> np.array([1, 2, 3], ndmin=2)\n",
      "    array([[1, 2, 3]])\n",
      "    \n",
      "    Type provided:\n",
      "    \n",
      "    >>> np.array([1, 2, 3], dtype=complex)\n",
      "    array([ 1.+0.j,  2.+0.j,  3.+0.j])\n",
      "    \n",
      "    Data-type consisting of more than one element:\n",
      "    \n",
      "    >>> x = np.array([(1,2),(3,4)],dtype=[('a','<i4'),('b','<i4')])\n",
      "    >>> x['a']\n",
      "    array([1, 3])\n",
      "    \n",
      "    Creating an array from sub-classes:\n",
      "    \n",
      "    >>> np.array(np.mat('1 2; 3 4'))\n",
      "    array([[1, 2],\n",
      "           [3, 4]])\n",
      "    \n",
      "    >>> np.array(np.mat('1 2; 3 4'), subok=True)\n",
      "    matrix([[1, 2],\n",
      "            [3, 4]])\n",
      "\n"
     ]
    }
   ],
   "source": [
    "help(np.array)"
   ]
  }
 ],
 "metadata": {
  "anaconda-cloud": {},
  "kernelspec": {
   "display_name": "Python [default]",
   "language": "python",
   "name": "python3"
  },
  "language_info": {
   "codemirror_mode": {
    "name": "ipython",
    "version": 3
   },
   "file_extension": ".py",
   "mimetype": "text/x-python",
   "name": "python",
   "nbconvert_exporter": "python",
   "pygments_lexer": "ipython3",
   "version": "3.5.2"
  }
 },
 "nbformat": 4,
 "nbformat_minor": 1
}
